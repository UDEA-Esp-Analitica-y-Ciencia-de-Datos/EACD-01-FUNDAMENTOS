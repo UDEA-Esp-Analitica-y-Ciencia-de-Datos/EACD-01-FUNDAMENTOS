{
 "cells": [
  {
   "cell_type": "markdown",
   "metadata": {},
   "source": [
    "# Ciclos y control de flujo\n",
    "\n",
    "## Ciclos\n",
    "\n",
    "Se usan para ejecutar acciones repetidas con posibles criterios para detener las ejecuciones. Por ejemplo:\n",
    "\n",
    "- Manejar el carro a 60 kilometros por hora *mientras* los semáforos estén en verde.\n",
    "- Estudiar *hasta* que muera.\n",
    "- Contar *cada*  moneda en la alcancía hasta que termine.\n",
    "- Esforzarte *por siempre*.\n",
    "\n",
    "## Control de flujo\n",
    "\n",
    "Es lo que determina las condiciones para ejecutar un procedimiento, para dejar de ejecutarlo o para alertar sobre un error que impide la ejecución de un procedimiento. Por ejemplo:\n",
    "\n",
    "- podemos *ejecutar un procedimiento* llamado `party` solo si cada estudiante aprueba el 80% del curso.\n",
    "- si hay `pandemia` no podemos ejecutar el procedimiento `dia_sin_iva`.\n",
    "- si *no* voto políticos corruptos, no se roban mis impuestos.\n",
    "\n",
    "Es bastante difícil construir ejemplos de código sin mezclar las dos cosas, por lo que los siguientes ejemplos mostrarán ambos. Nos ayudaremos del *módulo* `random` de la *librería estándar* y de algunas de sus *funciones*, pero hablaremos de eso más adelante. \n",
    "\n",
    "\n",
    "---"
   ]
  },
  {
   "cell_type": "code",
   "execution_count": 1,
   "metadata": {},
   "outputs": [],
   "source": [
    "import random"
   ]
  },
  {
   "cell_type": "markdown",
   "metadata": {},
   "source": [
    "---"
   ]
  },
  {
   "cell_type": "code",
   "execution_count": 2,
   "metadata": {},
   "outputs": [
    {
     "name": "stdout",
     "output_type": "stream",
     "text": [
      "Se les van a robar los impuestos\n"
     ]
    }
   ],
   "source": [
    "votos_por_corruptos = 50\n",
    "votos_por_honestos = 3\n",
    "\n",
    "if votos_por_corruptos > votos_por_honestos:\n",
    "    print(\"Se les van a robar los impuestos\")"
   ]
  },
  {
   "cell_type": "markdown",
   "metadata": {},
   "source": [
    "---"
   ]
  },
  {
   "cell_type": "code",
   "execution_count": 3,
   "metadata": {},
   "outputs": [
    {
     "name": "stdout",
     "output_type": "stream",
     "text": [
      "running at 60 km/h because traffic light is green\n",
      "not running because traffic light is yellow\n"
     ]
    }
   ],
   "source": [
    "speed = 60\n",
    "traffic_lights = [\"red\", \"green\", \"yellow\"]\n",
    "current_traffic_light = \"green\"\n",
    "while current_traffic_light == \"green\":\n",
    "    print(f\"running at {speed} km/h because traffic light is green\")\n",
    "    current_traffic_light = random.sample(traffic_lights, k=1)[0]\n",
    "print(f\"not running because traffic light is {current_traffic_light}\")"
   ]
  },
  {
   "cell_type": "markdown",
   "metadata": {},
   "source": [
    "---"
   ]
  },
  {
   "cell_type": "code",
   "execution_count": 4,
   "metadata": {},
   "outputs": [
    {
     "data": {
      "text/plain": [
       "2700"
      ]
     },
     "execution_count": 4,
     "metadata": {},
     "output_type": "execute_result"
    }
   ],
   "source": [
    "money_box = [50, 50, 200, 500, 200, 100, 100, 1000, 500]\n",
    "total_savings = 0\n",
    "for coin in money_box:\n",
    "    total_savings += coin\n",
    "total_savings"
   ]
  },
  {
   "cell_type": "markdown",
   "metadata": {},
   "source": [
    "---"
   ]
  },
  {
   "cell_type": "code",
   "execution_count": 5,
   "metadata": {},
   "outputs": [
    {
     "data": {
      "text/plain": [
       "36.833333333333336"
      ]
     },
     "execution_count": 5,
     "metadata": {},
     "output_type": "execute_result"
    }
   ],
   "source": [
    "years = [22, 24, 65, 49, 33, 28]\n",
    "sum_of_years = 0\n",
    "for y in years:\n",
    "    sum_of_years = sum_of_years + y\n",
    "average_years = sum_of_years / len(years)\n",
    "average_years"
   ]
  },
  {
   "cell_type": "markdown",
   "metadata": {},
   "source": [
    "---"
   ]
  },
  {
   "cell_type": "code",
   "execution_count": 6,
   "metadata": {},
   "outputs": [
    {
     "name": "stdout",
     "output_type": "stream",
     "text": [
      "All numbers: [1, 2, 3, 4, 5]\n"
     ]
    },
    {
     "data": {
      "text/plain": [
       "6"
      ]
     },
     "execution_count": 6,
     "metadata": {},
     "output_type": "execute_result"
    }
   ],
   "source": [
    "numbers = [1, 2, 3, 4, 5]\n",
    "print(f\"All numbers: {numbers}\")\n",
    "sum_of_pairs = 0\n",
    "for n in numbers:\n",
    "    if n % 2 == 0:\n",
    "        sum_of_pairs += n\n",
    "sum_of_pairs"
   ]
  },
  {
   "cell_type": "markdown",
   "metadata": {},
   "source": [
    "---"
   ]
  },
  {
   "cell_type": "code",
   "execution_count": 7,
   "metadata": {},
   "outputs": [
    {
     "data": {
      "text/plain": [
       "False"
      ]
     },
     "execution_count": 7,
     "metadata": {},
     "output_type": "execute_result"
    }
   ],
   "source": [
    "party = True\n",
    "students_grade = [0.7, 0.8, 0.9, 1.0, 0.85]\n",
    "for g in students_grade:\n",
    "    if g < 0.8:\n",
    "        party = False\n",
    "party"
   ]
  },
  {
   "cell_type": "markdown",
   "metadata": {},
   "source": [
    "---"
   ]
  },
  {
   "cell_type": "code",
   "execution_count": 8,
   "metadata": {},
   "outputs": [
    {
     "ename": "RuntimeError",
     "evalue": "there is not way you can pass the course without effort",
     "output_type": "error",
     "traceback": [
      "\u001b[0;31m---------------------------------------------------------------------------\u001b[0m",
      "\u001b[0;31mRuntimeError\u001b[0m                              Traceback (most recent call last)",
      "\u001b[0;32m<ipython-input-8-67589599698a>\u001b[0m in \u001b[0;36m<module>\u001b[0;34m\u001b[0m\n\u001b[1;32m      2\u001b[0m \u001b[0mwants_to_pass_the_course\u001b[0m \u001b[0;34m=\u001b[0m \u001b[0;32mTrue\u001b[0m\u001b[0;34m\u001b[0m\u001b[0;34m\u001b[0m\u001b[0m\n\u001b[1;32m      3\u001b[0m \u001b[0;32mif\u001b[0m \u001b[0meffort\u001b[0m \u001b[0;32mis\u001b[0m \u001b[0;32mNone\u001b[0m \u001b[0;32mand\u001b[0m \u001b[0mwants_to_pass_the_course\u001b[0m\u001b[0;34m:\u001b[0m\u001b[0;34m\u001b[0m\u001b[0;34m\u001b[0m\u001b[0m\n\u001b[0;32m----> 4\u001b[0;31m     \u001b[0;32mraise\u001b[0m \u001b[0mRuntimeError\u001b[0m\u001b[0;34m(\u001b[0m\u001b[0;34mf\"there is not way you can pass the course without effort\"\u001b[0m\u001b[0;34m)\u001b[0m\u001b[0;34m\u001b[0m\u001b[0;34m\u001b[0m\u001b[0m\n\u001b[0m\u001b[1;32m      5\u001b[0m \u001b[0mprint\u001b[0m\u001b[0;34m(\u001b[0m\u001b[0;34m\"you can pass!\"\u001b[0m\u001b[0;34m)\u001b[0m\u001b[0;34m\u001b[0m\u001b[0;34m\u001b[0m\u001b[0m\n",
      "\u001b[0;31mRuntimeError\u001b[0m: there is not way you can pass the course without effort"
     ]
    }
   ],
   "source": [
    "effort = None\n",
    "wants_to_pass_the_course = True\n",
    "if effort is None and wants_to_pass_the_course:\n",
    "    raise RuntimeError(\"there is not way you can pass the course without effort\")\n",
    "print(\"you can pass!\")"
   ]
  },
  {
   "cell_type": "code",
   "execution_count": 9,
   "metadata": {},
   "outputs": [
    {
     "name": "stdout",
     "output_type": "stream",
     "text": [
      "you can pass!\n"
     ]
    }
   ],
   "source": [
    "effort = 100\n",
    "wants_to_pass_the_course = True\n",
    "if effort is None and wants_to_pass_the_course:\n",
    "    raise RuntimeError(\"there is not way you can pass the course without effort\")\n",
    "print(\"you can pass!\")"
   ]
  },
  {
   "cell_type": "markdown",
   "metadata": {},
   "source": [
    "---"
   ]
  },
  {
   "cell_type": "markdown",
   "metadata": {},
   "source": [
    "Todo esto puede suceder en múltiples niveles de jerarquías, no solo una como se muestra arriba."
   ]
  },
  {
   "cell_type": "code",
   "execution_count": 10,
   "metadata": {},
   "outputs": [
    {
     "data": {
      "text/plain": [
       "{1: [1, 1, 1, 1],\n",
       " 2: [4, 8, 16, 32],\n",
       " 3: [9, 27, 81, 243],\n",
       " 4: [16, 64, 256, 1024]}"
      ]
     },
     "execution_count": 10,
     "metadata": {},
     "output_type": "execute_result"
    }
   ],
   "source": [
    "bases = [1, 2, 3, 4]\n",
    "powers = [2, 3, 4, 5]\n",
    "results = {}\n",
    "for b in bases:\n",
    "    results_for_current_base = []\n",
    "    for p in powers:\n",
    "        results_for_current_base.append(b**p)\n",
    "    results[b] = results_for_current_base\n",
    "results"
   ]
  },
  {
   "cell_type": "markdown",
   "metadata": {},
   "source": [
    "---\n",
    "Muchas estructuras de datos disponibles en python (y sus librerías) pueden iterarse"
   ]
  },
  {
   "cell_type": "code",
   "execution_count": 11,
   "metadata": {},
   "outputs": [
    {
     "name": "stdout",
     "output_type": "stream",
     "text": [
      "Santiago: 3.3\n",
      "Julian: 3.4\n",
      "Danilo: 4.1\n"
     ]
    }
   ],
   "source": [
    "grades = {\"Santiago\": 3.3, \"Julian\": 3.4, \"Danilo\": 4.1}\n",
    "for name, g in grades.items():\n",
    "    print(f\"{name}: {g}\")"
   ]
  },
  {
   "cell_type": "markdown",
   "metadata": {},
   "source": [
    "---\n",
    "Finalmente, hay una forma de trabajar con ciclos y control de flujo para cosas sencillas de una forma más eficiente en términos de lineas de código y tiempo de ejecución:"
   ]
  },
  {
   "cell_type": "code",
   "execution_count": 1,
   "metadata": {},
   "outputs": [
    {
     "output_type": "execute_result",
     "data": {
      "text/plain": "([1, 2, 3, 4, 5, 6, 7, 8, 9, 10],\n [False, True, False, True, False, True, False, True, False, True],\n [2, 4, 6, 8, 10],\n [2, 1.0, 6, 2.0, 10, 3.0, 14, 4.0, 18, 5.0])"
     },
     "metadata": {},
     "execution_count": 1
    }
   ],
   "source": [
    "numbers = [1,2,3,4,5,6,7,8,9,10]\n",
    "is_even = [(n % 2) == 0 for n in numbers]\n",
    "even_numbers = [n for n in numbers if (n % 2) == 0]\n",
    "new_numbers = [n*2 if (n % 2) != 0 else n / 2 for n in numbers]\n",
    "numbers, is_even, even_numbers, new_numbers"
   ]
  },
  {
   "cell_type": "code",
   "execution_count": null,
   "metadata": {},
   "outputs": [],
   "source": []
  }
 ],
 "metadata": {
  "kernelspec": {
   "display_name": "Python 3",
   "language": "python",
   "name": "python3"
  },
  "language_info": {
   "codemirror_mode": {
    "name": "ipython",
    "version": 3
   },
   "file_extension": ".py",
   "mimetype": "text/x-python",
   "name": "python",
   "nbconvert_exporter": "python",
   "pygments_lexer": "ipython3",
   "version": "3.8.3-final"
  }
 },
 "nbformat": 4,
 "nbformat_minor": 2
}
