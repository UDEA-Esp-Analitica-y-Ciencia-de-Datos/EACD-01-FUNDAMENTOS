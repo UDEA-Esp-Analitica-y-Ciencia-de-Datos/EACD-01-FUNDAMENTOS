{
 "cells": [
  {
   "cell_type": "code",
   "execution_count": 1,
   "metadata": {},
   "outputs": [
    {
     "name": "stdout",
     "output_type": "stream",
     "text": [
      "/bin/sh: wget: command not found\r\n"
     ]
    }
   ],
   "source": [
    "!wget --no-cache -O init.py -q https://raw.githubusercontent.com/UDEA-Esp-Analitica-y-Ciencia-de-Datos/EACD-01-FUNDAMENTOS/master/init.py\n",
    "import init; init.init(force_download=False); "
   ]
  },
  {
   "cell_type": "markdown",
   "metadata": {},
   "source": [
    "# Lectura y escritura de archivos\n",
    "\n",
    "Una de las tareas más comunes cuando se trabaja en ciencia de datos o Machine Learning es procesar archivos de datos o metadatos, los últimos se refieren a datos acerca de los datos.\n",
    "\n",
    "Debemos estar en la capacidad de procesar muchos tipos de archivos, archivos de texto, csv, json, xml, yaml, imágenes y videos son los tipos más comunes. Eventualmente necesitaremos escribir archivos también, como parte de un largo proceso de tratamiento de datos o para exportar alguna configuración de nuestros modelos para luego ser leídos por otros componentes de un sistema más grande."
   ]
  },
  {
   "cell_type": "markdown",
   "metadata": {},
   "source": [
    "## Texto sin formato\n",
    "\n",
    "Realmente estos archivos pueden venir con algun formato, simplemente que no encaja dentro de algún estándar. Empecemos considerando el archivo `files/abstract.txt`, el cual contiene el abstract de un famoso artículo."
   ]
  },
  {
   "cell_type": "code",
   "execution_count": 2,
   "metadata": {},
   "outputs": [
    {
     "data": {
      "text/plain": [
       "['Deeper neural networks are more difficult to train. We present a residual learning framework to ease the training of networks that are substantially deeper than those used previously. We explicitly reformulate the layers as learning residual functions with reference to the layer inputs, instead of learning unreferenced functions. We provide comprehensive empirical evidence showing that these residual networks are easier to optimize, and can gain accuracy from considerably increased depth. On the ImageNet dataset we evaluate residual nets with a depth of up to 152 layers---8x deeper than VGG nets but still having lower complexity. An ensemble of these residual nets achieves 3.57% error on the ImageNet test set. This result won the 1st place on the ILSVRC 2015 classification task. We also present analysis on CIFAR-10 with 100 and 1000 layers.\\n',\n",
       " 'The depth of representations is of central importance for many visual recognition tasks. Solely due to our extremely deep representations, we obtain a 28% relative improvement on the COCO object detection dataset. Deep residual nets are foundations of our submissions to ILSVRC & COCO 2015 competitions, where we also won the 1st places on the tasks of ImageNet detection, ImageNet localization, COCO detection, and COCO segmentation.']"
      ]
     },
     "execution_count": 2,
     "metadata": {},
     "output_type": "execute_result"
    }
   ],
   "source": [
    "f = open(\"local/files/abstract.txt\", \"r\")\n",
    "content = f.readlines()\n",
    "f.close()\n",
    "content"
   ]
  },
  {
   "cell_type": "markdown",
   "metadata": {},
   "source": [
    "**¿Qué paso?** \n",
    "\n",
    "1. Usamos la función `open` para abrir un archivo (`\"local/files/abstract.txt\"`) en modo lectura (`\"r\"`).\n",
    "2. Leimos todas las líneas del archivo.\n",
    "3. Cerramos el archivo.\n",
    "\n",
    "Observa que el archivo se lee línea a línea, y por eso el resultado en `content` es una lista de strings. Básicamente lo pudimos haber leido de la siguiente manera"
   ]
  },
  {
   "cell_type": "code",
   "execution_count": 3,
   "metadata": {},
   "outputs": [
    {
     "data": {
      "text/plain": [
       "['Deeper neural networks are more difficult to train. We present a residual learning framework to ease the training of networks that are substantially deeper than those used previously. We explicitly reformulate the layers as learning residual functions with reference to the layer inputs, instead of learning unreferenced functions. We provide comprehensive empirical evidence showing that these residual networks are easier to optimize, and can gain accuracy from considerably increased depth. On the ImageNet dataset we evaluate residual nets with a depth of up to 152 layers---8x deeper than VGG nets but still having lower complexity. An ensemble of these residual nets achieves 3.57% error on the ImageNet test set. This result won the 1st place on the ILSVRC 2015 classification task. We also present analysis on CIFAR-10 with 100 and 1000 layers.\\n',\n",
       " 'The depth of representations is of central importance for many visual recognition tasks. Solely due to our extremely deep representations, we obtain a 28% relative improvement on the COCO object detection dataset. Deep residual nets are foundations of our submissions to ILSVRC & COCO 2015 competitions, where we also won the 1st places on the tasks of ImageNet detection, ImageNet localization, COCO detection, and COCO segmentation.',\n",
       " '']"
      ]
     },
     "execution_count": 3,
     "metadata": {},
     "output_type": "execute_result"
    }
   ],
   "source": [
    "f = open(\"local/files/abstract.txt\", \"r\")\n",
    "content = []\n",
    "line = \"some arbitrary string to enter the loop\"\n",
    "while line != \"\":\n",
    "    line = f.readline()\n",
    "    content.append(line)\n",
    "f.close()\n",
    "content"
   ]
  },
  {
   "cell_type": "markdown",
   "metadata": {},
   "source": [
    "Leerlo línea a línea nos permite cargar en memoria solo una línea a la vez, lo cual es bastante importante si el contenido de nuestro archivo no cabe en la memoria del computador. También es posible leerlo completo como un string, sin separarlo línea por línea,"
   ]
  },
  {
   "cell_type": "code",
   "execution_count": 4,
   "metadata": {},
   "outputs": [
    {
     "data": {
      "text/plain": [
       "'Deeper neural networks are more difficult to train. We present a residual learning framework to ease the training of networks that are substantially deeper than those used previously. We explicitly reformulate the layers as learning residual functions with reference to the layer inputs, instead of learning unreferenced functions. We provide comprehensive empirical evidence showing that these residual networks are easier to optimize, and can gain accuracy from considerably increased depth. On the ImageNet dataset we evaluate residual nets with a depth of up to 152 layers---8x deeper than VGG nets but still having lower complexity. An ensemble of these residual nets achieves 3.57% error on the ImageNet test set. This result won the 1st place on the ILSVRC 2015 classification task. We also present analysis on CIFAR-10 with 100 and 1000 layers.\\nThe depth of representations is of central importance for many visual recognition tasks. Solely due to our extremely deep representations, we obtain a 28% relative improvement on the COCO object detection dataset. Deep residual nets are foundations of our submissions to ILSVRC & COCO 2015 competitions, where we also won the 1st places on the tasks of ImageNet detection, ImageNet localization, COCO detection, and COCO segmentation.'"
      ]
     },
     "execution_count": 4,
     "metadata": {},
     "output_type": "execute_result"
    }
   ],
   "source": [
    "f = open(\"local/files/abstract.txt\", \"r\")\n",
    "content = f.read()\n",
    "f.close()\n",
    "content"
   ]
  },
  {
   "cell_type": "markdown",
   "metadata": {},
   "source": [
    "Observa que para convertir esto en una lista de líneas, solo debemos partir la lista cada vez que se encunetre un caracter que significa final de línea (`\"\\n\"`)"
   ]
  },
  {
   "cell_type": "code",
   "execution_count": 5,
   "metadata": {},
   "outputs": [
    {
     "data": {
      "text/plain": [
       "['Deeper neural networks are more difficult to train. We present a residual learning framework to ease the training of networks that are substantially deeper than those used previously. We explicitly reformulate the layers as learning residual functions with reference to the layer inputs, instead of learning unreferenced functions. We provide comprehensive empirical evidence showing that these residual networks are easier to optimize, and can gain accuracy from considerably increased depth. On the ImageNet dataset we evaluate residual nets with a depth of up to 152 layers---8x deeper than VGG nets but still having lower complexity. An ensemble of these residual nets achieves 3.57% error on the ImageNet test set. This result won the 1st place on the ILSVRC 2015 classification task. We also present analysis on CIFAR-10 with 100 and 1000 layers.',\n",
       " 'The depth of representations is of central importance for many visual recognition tasks. Solely due to our extremely deep representations, we obtain a 28% relative improvement on the COCO object detection dataset. Deep residual nets are foundations of our submissions to ILSVRC & COCO 2015 competitions, where we also won the 1st places on the tasks of ImageNet detection, ImageNet localization, COCO detection, and COCO segmentation.']"
      ]
     },
     "execution_count": 5,
     "metadata": {},
     "output_type": "execute_result"
    }
   ],
   "source": [
    "content.split(\"\\n\")"
   ]
  },
  {
   "cell_type": "markdown",
   "metadata": {},
   "source": [
    "Otra forma de leer los archivos es utilizando algo llamado [context manager](https://www.geeksforgeeks.org/context-manager-in-python/):"
   ]
  },
  {
   "cell_type": "code",
   "execution_count": 6,
   "metadata": {},
   "outputs": [
    {
     "data": {
      "text/plain": [
       "['Deeper neural networks are more difficult to train. We present a residual learning framework to ease the training of networks that are substantially deeper than those used previously. We explicitly reformulate the layers as learning residual functions with reference to the layer inputs, instead of learning unreferenced functions. We provide comprehensive empirical evidence showing that these residual networks are easier to optimize, and can gain accuracy from considerably increased depth. On the ImageNet dataset we evaluate residual nets with a depth of up to 152 layers---8x deeper than VGG nets but still having lower complexity. An ensemble of these residual nets achieves 3.57% error on the ImageNet test set. This result won the 1st place on the ILSVRC 2015 classification task. We also present analysis on CIFAR-10 with 100 and 1000 layers.\\n',\n",
       " 'The depth of representations is of central importance for many visual recognition tasks. Solely due to our extremely deep representations, we obtain a 28% relative improvement on the COCO object detection dataset. Deep residual nets are foundations of our submissions to ILSVRC & COCO 2015 competitions, where we also won the 1st places on the tasks of ImageNet detection, ImageNet localization, COCO detection, and COCO segmentation.']"
      ]
     },
     "execution_count": 6,
     "metadata": {},
     "output_type": "execute_result"
    }
   ],
   "source": [
    "with open(\"local/files/abstract.txt\", \"r\") as f:\n",
    "    content = f.readlines()\n",
    "content"
   ]
  },
  {
   "cell_type": "markdown",
   "metadata": {},
   "source": [
    "Lo anterior no es simplemente una forma más bonita de hacer lo mismo, nos proporciona la seguridad de que siempre nos estamos refiriendo al mismo archivo y lo cierra para que otros procesos lo utilicen de ser necesario.\n",
    "\n",
    "La función `open` admite más parámetros, que puedes leer en la [documentación oficial](https://docs.python.org/3/library/functions.html#open). Sin embargo, si mostraremos un par de formas más de abrir archivos.\n",
    "\n",
    "**Modo escritura**"
   ]
  },
  {
   "cell_type": "code",
   "execution_count": 7,
   "metadata": {},
   "outputs": [],
   "source": [
    "with open(\"temp_file\", \"w\") as f:\n",
    "    for i in range(10):\n",
    "        f.write(f\"writing line with number {i}\\n\")"
   ]
  },
  {
   "cell_type": "markdown",
   "metadata": {},
   "source": [
    "**Modo lectura y esritura de archivos binarios**\n",
    "\n",
    "Este último es especialmente importante, porque ciertos formatos solo permiten leer y escribir en formato binario."
   ]
  },
  {
   "cell_type": "code",
   "execution_count": 8,
   "metadata": {},
   "outputs": [
    {
     "ename": "UnicodeDecodeError",
     "evalue": "'utf-8' codec can't decode byte 0x89 in position 0: invalid start byte",
     "output_type": "error",
     "traceback": [
      "\u001b[0;31m---------------------------------------------------------------------------\u001b[0m",
      "\u001b[0;31mUnicodeDecodeError\u001b[0m                        Traceback (most recent call last)",
      "\u001b[0;32m<ipython-input-8-559148aa4ce1>\u001b[0m in \u001b[0;36m<module>\u001b[0;34m\u001b[0m\n\u001b[1;32m      1\u001b[0m \u001b[0;32mwith\u001b[0m \u001b[0mopen\u001b[0m\u001b[0;34m(\u001b[0m\u001b[0;34m\"local/imgs/udea-datascience.png\"\u001b[0m\u001b[0;34m,\u001b[0m \u001b[0;34m\"r\"\u001b[0m\u001b[0;34m)\u001b[0m \u001b[0;32mas\u001b[0m \u001b[0mf\u001b[0m\u001b[0;34m:\u001b[0m\u001b[0;34m\u001b[0m\u001b[0;34m\u001b[0m\u001b[0m\n\u001b[0;32m----> 2\u001b[0;31m     \u001b[0mcontent\u001b[0m \u001b[0;34m=\u001b[0m \u001b[0mf\u001b[0m\u001b[0;34m.\u001b[0m\u001b[0mread\u001b[0m\u001b[0;34m(\u001b[0m\u001b[0;34m)\u001b[0m\u001b[0;34m\u001b[0m\u001b[0;34m\u001b[0m\u001b[0m\n\u001b[0m\u001b[1;32m      3\u001b[0m \u001b[0mcontent\u001b[0m\u001b[0;34m\u001b[0m\u001b[0;34m\u001b[0m\u001b[0m\n",
      "\u001b[0;32m~/opt/anaconda3/lib/python3.7/codecs.py\u001b[0m in \u001b[0;36mdecode\u001b[0;34m(self, input, final)\u001b[0m\n\u001b[1;32m    320\u001b[0m         \u001b[0;31m# decode input (taking the buffer into account)\u001b[0m\u001b[0;34m\u001b[0m\u001b[0;34m\u001b[0m\u001b[0;34m\u001b[0m\u001b[0m\n\u001b[1;32m    321\u001b[0m         \u001b[0mdata\u001b[0m \u001b[0;34m=\u001b[0m \u001b[0mself\u001b[0m\u001b[0;34m.\u001b[0m\u001b[0mbuffer\u001b[0m \u001b[0;34m+\u001b[0m \u001b[0minput\u001b[0m\u001b[0;34m\u001b[0m\u001b[0;34m\u001b[0m\u001b[0m\n\u001b[0;32m--> 322\u001b[0;31m         \u001b[0;34m(\u001b[0m\u001b[0mresult\u001b[0m\u001b[0;34m,\u001b[0m \u001b[0mconsumed\u001b[0m\u001b[0;34m)\u001b[0m \u001b[0;34m=\u001b[0m \u001b[0mself\u001b[0m\u001b[0;34m.\u001b[0m\u001b[0m_buffer_decode\u001b[0m\u001b[0;34m(\u001b[0m\u001b[0mdata\u001b[0m\u001b[0;34m,\u001b[0m \u001b[0mself\u001b[0m\u001b[0;34m.\u001b[0m\u001b[0merrors\u001b[0m\u001b[0;34m,\u001b[0m \u001b[0mfinal\u001b[0m\u001b[0;34m)\u001b[0m\u001b[0;34m\u001b[0m\u001b[0;34m\u001b[0m\u001b[0m\n\u001b[0m\u001b[1;32m    323\u001b[0m         \u001b[0;31m# keep undecoded input until the next call\u001b[0m\u001b[0;34m\u001b[0m\u001b[0;34m\u001b[0m\u001b[0;34m\u001b[0m\u001b[0m\n\u001b[1;32m    324\u001b[0m         \u001b[0mself\u001b[0m\u001b[0;34m.\u001b[0m\u001b[0mbuffer\u001b[0m \u001b[0;34m=\u001b[0m \u001b[0mdata\u001b[0m\u001b[0;34m[\u001b[0m\u001b[0mconsumed\u001b[0m\u001b[0;34m:\u001b[0m\u001b[0;34m]\u001b[0m\u001b[0;34m\u001b[0m\u001b[0;34m\u001b[0m\u001b[0m\n",
      "\u001b[0;31mUnicodeDecodeError\u001b[0m: 'utf-8' codec can't decode byte 0x89 in position 0: invalid start byte"
     ]
    }
   ],
   "source": [
    "with open(\"local/imgs/udea-datascience.png\", \"r\") as f:\n",
    "    content = f.read()\n",
    "content"
   ]
  },
  {
   "cell_type": "code",
   "execution_count": 9,
   "metadata": {
    "scrolled": true
   },
   "outputs": [
    {
     "data": {
      "text/plain": [
       "b'\\x89PNG\\r\\n\\x1a\\n\\x00\\x00\\x00\\rIHDR\\x00\\x00\\x01/\\x00\\x00\\x00\\xea\\x08\\x06\\x00\\x00\\x00\\xf3\\x8c\\xc3k\\x00\\x00\\x00\\x04sBIT\\x08\\x08\\x08\\x08|\\x08d\\x88\\x00\\x00\\x00\\x19tEXtSoftware\\x00gnome-screenshot\\xef\\x03\\xbf>\\x00\\x00\\x00*tEXtCreation Time\\x00Tue 09 Jun 2020 06:38:38 -05Ng\\xdc\\x83\\x00\\x00 \\x00IDATx\\x9c\\xed\\xbd\\x7fTSW\\xba\\xff\\xff\\x0e\\x049Q\\xd4\\xa0X\\x93\\x8aJ\\xfcI\\xa8\\xb6\\x84\\xd1\\xb6\\xa1\\xda\\x19cmk\\x1c\\xef\\x8c\\xe1\\xda{\\x85q:\\x9a\\xda[\\x1b\\xda\\xfbi\\xb13\\xb7\\xc5vu\\xf9\\xa5\\x9du[\\xe8\\xcc\\xb5`\\xef\\xa7\\x85\\xf6~\\xda\\x01;\\xb5\\xe0\\x8c\\x96\\xd8\\xea\\x10\\xdbj\\x83\\xb7Zb\\x8b%\\xfe$\\xa8hRA\\x13\\x05\\xcc\\x01\\x02\\xfb\\xfbG\\xc2/\\x05r\\x0e$\\x84\\x03\\xfb\\xe5\\xcaZ\\x08\\xfb\\xec\\xf3d\\x9fs\\xdeg\\xefg?\\xfb\\xd9\"B\\x08\\x01\\x85B\\xa1\\x08\\x8c\\xb0P\\x1b@\\xa1P(\\x03\\x81\\x8a\\x17\\x85B\\x11$T\\xbc(\\x14\\x8a \\xa1\\xe2E\\xa1P\\x04\\t\\x15/\\n\\x85\"H\\xa8xQ(\\x14AB\\xc5\\x8bB\\xa1\\x08\\x12*^\\x14\\nE\\x90P\\xf1\\xa2P(\\x82\\x84\\x8a\\x17\\x85B\\x11$T\\xbc(\\x14\\x8a \\xa1\\xe2E\\xa1P\\x04\\t\\x15/\\n\\x85\"H\\xa8xQ(\\x14AB\\xc5\\x8bB\\xa1\\x08\\x12*^\\x14\\nE\\x90P\\xf1\\xa2P(\\x82\\x84\\x8a\\x17\\x85B\\x11$T\\xbc(\\x14\\x8a \\xa1\\xe2E\\xa1P\\x04\\t\\x15/\\n\\x85\"H\\xa8xQ(\\x14AB\\xc5\\x8bB\\xa1\\x08\\x12*^\\x14\\nE\\x90P\\xf1\\xa2P(\\x82\\x84\\x8a\\x17\\x85B\\x11$T\\xbc(\\x14\\x8a \\xa1\\xe2E\\xa1P\\x04\\t\\x15/\\n\\x85\"H\\xa8xQ(\\x14AB\\xc5\\x8bB\\xa1\\x08\\x12*^\\x14\\nE\\x90P\\xf1\\xa2P(\\x82\\x84\\x8a\\x17\\x85B\\x11$T\\xbc(\\x14\\x8a \\xa1\\xe2E\\xa1P\\x04\\t\\x15/\\n\\x85\"H\\xa8xQ(\\x14AB\\xc5\\x8bB\\xa1\\x08\\x12*^\\x14\\nE\\x90P\\xf1\\xa2P(\\x82\\x84\\x8a\\x17\\x85B\\x11$T\\xbc(\\x14\\x8a \\x11\\x87\\xda\\x00\\xca\\xf0\\xe4\\xf8\\xe9\\xe3p68\\x07U\\xc7\\xec\\xd8\\xd9\\x88\\x9d\\x12\\x8b\\xb00\\xfa\\x8e\\xa4\\x04\\x1e*^\\x94^y\\xefo\\xef\\xc1r\\xca2\\xa8:\\xd2\\x1fKG\\x8a&\\x05\\x91a\\x91\\x01\\xb2\\x8aB\\xe9\\x82\\xbe\\x12)\\x14\\x8a \\xa1\\xe2E\\xa1P\\x04\\xc9\\x88\\x1a6645\\xa0\\xf8\\xcb\\xe2\\xa0\\xd5\\x9f\\x14\\x9f\\x84\\xbbg\\xdf\\xed\\xb7\\x9c\\xbb\\xd9\\x8d\\xb2\\xa3e\\xa8\\xbf^\\x1f\\x14;\\x12\\xe2\\x94P\\xcdOB\\x848\"(\\xf5S\\x86\\x06\\xc7U\\x07\\xbe>\\xfe5n\\xb279\\x95\\x9f\\x1b;\\x07\\x8b\\x12\\x16#2\\x82\\x0e\\xc3\\x81\\x11&^7n6\\xe0\\xfd\\xbf\\xbf\\x1f\\xb4\\xfa\\xc3Da\\x9c\\xc5k\\xcf\\xd7{p\\xb2\\xe6dP\\xecX\\xfb\\xd0Z\\xdc5{\\x01\\x15/\\x81\\xf3\\x8fo\\xff\\x81\\x8f\\x8c\\x1f\\xc1\\xdd\\xec\\xe6T^\\x1e#C\\xf6\\xbf\\xe7`\\xfa\\xd4\\xe9A\\xb6L\\x18\\x8c(\\xf1\\x02\\x08<m\\x9e\\xa0\\xd5\\xde\\xde\\xde\\xce\\xabl\\xb0likk\\x03HP\\xaa\\xeeD$\\x12\\x05\\xf7\\x04\\xa3\\x1cO\\x9b\\x07\\x17\\x7f\\xba\\x88&\\xb6\\x89\\xf3}u\\xf1\\xa7Z\\\\\\xfc\\xe9\"\\x15/\\x1f#L\\xbc(\\x81B\\x19\\xa7D\\x98(\\x0cMl\\x13\\xae\\xba\\xae\\xe2z\\xd3u\\xb4zZy\\t8\\xa5o~8\\xf3\\x03N\\xd6\\x9c\\xe4\\xdd\\x9e\\x87,\\x87\\x90|wr\\x90\\xac\\x12\\x16T\\xbc(\\xbdbXk\\x00\\x00\\xd49\\xeb`\\xb5YQ}\\xb9\\x1a\\x8d\\xeeF\\xfc\\xe3\\xdb\\x7f\\xe0\\xca\\xb5+!\\xb6N\\xf8\\x9c:\\x7f\\n\\xb5Wjy\\x1fWv\\xac\\x0c\\x86\\xb5\\x06D\\x8d\\x8d\\n\\x82U\\xc2\\x82\\x8a\\x17\\xa5_\\xa6DO\\xc1\\x94\\xe8)x0\\xe9A\\x00\\x80\\xd5f\\xa5\\xe25H\\xae\\xdd\\xb8\\x86\\xd3\\x17Os\\xf6uu\\xa7\\xf1f#,\\xa7-X\\x9a\\xb84\\x08\\x96\\t\\x0b\\x1a*A\\xa1\\x0c1\\xb5?\\xd5\\xe2\\x873?\\x0c\\xf8\\xf8\\xff\\xd9\\xfb? $\\xc8NO\\x010\\xa2\\xc4kl\\xe4X,\\x9c\\xbd\\x10Qc\\xa3 \\x0e\\x17\\x07\\xc4\\xe9\\x1c\\x16\\x16\\x86\\xc8\\x88H(\\xeeT \\xee\\xce8N\\xc7\\x8c\\x89\\x18\\x83\\xb93\\xe6B:^\\x8a\\x08qD`\\xec\\x10\\x85!B\\x1c\\x01\\xd9d\\x19\\xa6O\\x8d\\x85XL;\\xcdB\\x84\\x10\\x82+\\xce+\\xf8\\xe9\\xdaO\\x03\\xae\\xe3\\xe4\\xf9\\x93\\xb0_\\xb5\\x07\\xd0*a2\\xa2\\x9e\\x80\\xe8\\t\\xd1\\xf8\\xbf/\\xfd_\\x00@sK3N]8\\x85\\xaf*\\xbe\\xc2\\x91\\xca#\\xb0]\\xb6q\\xaeg\\xd2\\x84I\\xb8g\\xee=x\\xe8\\xde\\xe5H\\x9c\\xafB\\xf4\\xf8h^vDI\\xa2\\xf0\\x87\\xdf\\xfe\\x01\\x7f\\xf8\\xed\\x1f@\\x08A\\xf5\\xa5j\\x94W\\x96\\xe3\\xeb\\x8a\\xafq\\xa6\\xf6\\x0c\\x9a[\\x9a9\\xd53a\\xdc\\x04(\\xe3\\x94X\\xb6h\\x19\\xee[p\\x1f\\xa6N\\x9a\\xca\\xcb\\x0e\\xca\\xf0\\xa3\\xa1\\xa9\\x01\\xfb\\xca\\xf7\\rj\\xe2\\x83\\x10\\x02\\xd3Q\\x13~\\xb3\\xf27\\x01\\xb4Lx\\x8c(\\xf1\\xeaN\\xe4\\x98H\\xdc=\\xe7n\\xdc=\\xe7n\\xfc\\xeb\\x8a\\x7f\\xc5\\xaf\\xb6\\xfc\\x8a\\xf3\\xb1\\x7fx\\xfc\\x0f\\x01\\xf3)\\x88D\"\\xcc\\x8e\\x9d\\x8d\\xd9\\xb1\\xb3\\xf1\\xcf\\x9a\\x7f\\xc6\\xbf\\xbf\\xf5\\xef\\xa8<[\\xc9\\xe9\\xd8\\xb5\\xcb\\xd7b\\xbdv=\\xc6D\\x8c\\t\\x88-\\x94\\xd0s\\xe3\\xe6\\r\\xfcx\\xee\\xc7A\\xd7\\xb3\\xf7\\xd0^\\xfc\\xb3\\xe6\\x9f\\xc1D2\\x01\\xb0J\\x98\\x8c\\xa8a#\\x852\\xdc9|\\xfc0n4\\xdd\\x18t=\\rM\\r8u\\xe1T\\x00,\\x12.T\\xbc(\\x94!d\\xef\\xd7{\\x02RO\\x13\\xdb\\x84\\xaf\\xbe\\xfbrT\\xc7\\xddQ\\xf1\\xa2P\\x86\\x88\\x0b\\x8e\\xf3\\xb8p\\xe5b@\\xeaj\\xf5\\xb4\\xe2l\\xed\\xb9\\x80\\xf4\\xe2\\x84\\n\\x15/\\ne\\x88\\xd8\\xfe\\xf1\\xdb\\xde\\xa5]~\\x10\\x8b\\xb9\\xcd\\x94_\\xaa\\xbb\\x84\\x1f\\xab\\x07\\xef?\\x13*#\\xd6aO\\xe9\\x9d\\xb6\\xf66\\xb0\\xcd,\\xd8\\x16\\x16\\xce\\x1bN\\\\\\xae\\xbf\\x8c\\x86\\xa6\\x06\\xb4\\xb7\\x13L\\x8e\\x9e\\x84\\xd8)\\xb1\\x988n\"$\\x8cd\\xd8N\\x14\\xb4\\xb7\\xb7\\xa3\\xb9\\xb5\\x19l\\x0b\\x8b\\xe6\\x96f\\xfct\\xf5\\'\\xd4\\xbb\\xeaq\\xb3\\xf9&\\xda\\xda\\xdb \\x8d\\x92B:^\\n\\xd9d\\x19\"#\"1&b\\x0c\\x981\\x0c\\xc2\\xc3\\xc3Cfs[{\\x1b~8\\xc7-\\xb6\\xeb7\\x8f\\xfe\\x06\\x07\\xbf;\\x88\\xf3\\xf6\\xf3\\xfd\\x96\\xb3\\xd7\\xdb\\xf1\\xc3\\xd9\\x1fp\\xdf\\x82{!\\x0e\\x1f}\\x8b\\xf4\\xa9x\\x8d\\x12\\x1an6\\xa0\\xfaR5N\\x9f?\\x8d\\xbf\\x1e\\xf8+.\\xd7_\\xee\\xb3\\xec\\xd8\\xc8\\xb1xD\\xfd\\x08\\x96-Z\\x86\\xf93\\xe7c\\xfc\\xd8\\xf1Chi\\xdf4\\xdel\\xc4\\xb9K\\xe7P\\xfbS-J\\xbf)E\\x95\\xad\\n-\\xad-\\xfd\\x1e\\x13&\\nC\\xdc\\x9d3\\xf1\\xd0\\xbd\\x0fa\\xc1\\xec\\x85\\x98)\\x9b\\x89\\x18i\\xcc\\x90/<?|\\xfc0\\x1ao6\\xfa-7u\\xd2T,\\x9c\\xb3\\x10\\xe7\\x1d\\xe7\\xfd\\x8a\\x17\\xe0\\xed}\\xd5\\xb9\\xea!\\x9f,\\x0f\\x84\\x99\\x82\\x82\\x8a\\xd7\\x08\\xa7\\xad\\xad\\r\\x95\\xe7*Qv\\xb4\\x0c{\\xbf\\xde\\x8b\\x16O\\xff\\x0f;\\x00\\xdcl\\xbe\\x89\\xdd_\\xee\\xc6\\xdf\\xbe\\xfa\\x1bR4)\\xf8y\\xd2\\xcf\\xf1\\xb3\\xf8\\x9f\\r\\x81\\xb5\\xbd\\xd3\\xdc\\xda\\x8c\\xf2\\x1f\\xcaQq\\xb2\\x02\\x9f\\x1d\\xfe\\x0cl\\x0b\\xcb\\xf9\\xd8v\\xd2\\x8e\\xeaK6\\xbc\\xbb\\xfb=D\\x88#\\xb0$q\\t\\x12\\xe7\\xde\\x83G\\xd4\\x8fb\\xc2\\xb8\\tA\\xb4\\xba\\'\\xa5\\x87K9\\x95\\xbbg\\xee\\xdd\\x98=m6\\x96&.\\xc5\\xc1c\\x07\\xfd\\x96?~\\xea8N\\xd5\\x9c\\x82l\\x92l\\xd4e\\x02\\xa1\\xe25\\x82ini\\x86\\xf9\\x073>4~\\x883\\x17\\xcf\\xf0\\x9e\\x99\"\\x84\\xa0\\xd8T\\x8c\\xefO\\x7f\\x8fM\\xbf\\xde\\x84%\\x89K\\x82di\\xdf\\\\\\xaa\\xbb\\x84\\xcf\\xcd\\xfb\\xf0\\xd9\\xe1\\xd2AE\\xa5\\x03^\\'\\xf7\\xc1c\\x07q\\xc8r\\x08\\xe7.U\\xe3Q\\xf5\\xa3H\\x9c\\x97\\x18 K\\xfb\\xc6q\\xd5\\x81\\xcbu}\\xf7t;\\x08\\x13\\x85\\xe1\\xce)\\xd3\\x10=!\\x1aK\\xeeY\\x82q\\x92qhr7\\xf5{\\xcc\\xb5\\x1b\\xd7Pc\\xaf\\x81\\xda\\xa3\\x1euI\\n\\xa9x\\x8dP\\xda\\xda\\xdb\\xf0U\\xc5W\\xc8\\xfb4\\x0fu\\xce\\xba\\x01\\xd7C\\x08\\xc1\\x99\\x8bg\\xf0\\xe7\\x9d\\x7fF;\\x19\\xdai\\xf9\\xf3\\x8e\\xf3\\xc8)\\xcc\\xc1\\x89\\xb3\\'x\\xf5\\xb6\\xfc\\xe1i\\xf3\\xe0\\xb3C\\x9f\\xe1\\xc7\\xea\\x1f\\x91\\xfaH*\\x1eU?\\x1a\\xd4^\\xcbW\\x15_\\xe1\\'\\xa7\\x7f\\xe1\\x9d:y*\\x12f% B\\x1c\\x81\\x08q\\x04\\xe6N\\x9f\\x8b\\xe3\\xa7\\x8f\\xfb=\\xee\\xdb\\x13\\xdfbe\\xf2\\xcaQ\\xb7\\x02\\x83\\xce6\\x8eP\\xaa/\\x9d\\xc3\\xeb\\xff\\xf3\\xfa\\xa0\\x84\\xab;\\x97\\xeb/#\\xfb/\\xd9A\\xcb\\x0e{+u\\xae:d\\xfc9\\x03\\xdfY\\xbf\\x0b\\xa8pu\\xd0N\\xdaq\\xae\\xf6\\x1c\\xb6\\x7f\\xbc\\x1d_U|\\x15\\xf0\\xfa\\xbbSc\\xaf\\xe1\\x94AB>Y\\x0e\\xe5Le\\xe7\\xff7\\xfcr\\x03\\xa7\\xfa\\x7f8\\xfb\\x03.\\xd7]\\x1a\\xa8y\\x82\\x85\\x8a\\xd7\\x08\\xe4z\\xd3u<\\xfe\\xea\\xef\\xfc:\\xb3\\xf9R\\xef\\xaa\\x1fP\\x1a\\x17\\xbe4\\xb74\\xe3\\xdf^\\x7f\\n\\x97\\xeb.\\x07={\\xc2\\xf5\\xa6\\xeb\\xd8\\xf1\\xe9\\x0e^k_\\xf9Py\\xb6\\x12\\xa7\\xcf\\x9f\\xf2;d\\x17\\x89D\\x88\\x9e\\x10\\x8dI\\x13\\'u\\xfen\\xf1]\\x8b11j\\xa2\\xdfs\\xb4\\x93\\xf6!{\\xa9\\x0c\\'\\xa8x\\x8d0\\xd8\\x16\\x16\\xe9o\\xa6\\x87\\xda\\x8c\\x01\\xc3\\xb6\\xb0x5\\xffU8\\x860kB\\xed\\x95Z\\x14}^\\xc4y#\\x0c>\\x9c\\xa8>\\x01\\xdb\\xe5\\x1a\\xbf\\xe5\\xc6\\x8f\\x1d\\x8f\\x15\\xf7\\xad\\xb8m\\xf8\\xaa\\x9a\\xa7\\xe2t\\x9eOM\\xc5hn\\xe5\\xb6\\xe0\\x7f\\xa4@\\xc5k\\x84\\xf1y\\xf9\\xe7\\xb8\\xe8\\x08L\\x14w(\\xd8\\x7fd?\\xca\\x7f(\\x1f\\xf2\\xf3\\x96~S\\x8a}\\xe6}\\x01\\xad\\xf3F\\xd3\\r\\xd4\\xd8k8\\x89\\x8a$R\\x82\\xbb\\xe7\\xdc\\xbe\\xb9\\x8bN\\xb3\\x86S|\\x9a\\xbd\\xde\\x1e\\x90\\x05\\xdfB\\x82:\\xecG\\x10\\xae\\x06\\x17\\x8c\\xdf\\x18y\\x0f\\x17E\"\\x11\\x1e\\xb8\\xe7\\x01,\\x98\\xb5\\x00\\x91c\\xbc3V-\\xad-\\xb0]\\xb6\\xc1t\\xcc\\x14\\xf0\\xe1g_\\x9c8w\\x02\\xbb\\xfe\\xb1\\x8b\\xd7\\xf9D\"\\x11\\x96&.\\xc5\\xdds\\xefFx\\x98\\xf7!o\\'\\xed\\xa8\\xfd\\xa9\\x16\\xfb\\xffw\\xbf\\xdf\\xd9\\xba\\xee|\\xb0\\xf7\\x03\\xacL^\\x89\\xb1\\xccX\\xde\\xb6\\xf7\\xc6\\x05\\xc7\\x05\\x1c?u\\x9c\\xd3\\xd0W\\x19\\xa7\\xec5tc\\xa6<\\x0e\\xd1\\xe3\\xa3Q\\xef\\xf2\\xbf\\x8d^\\xc9\\xc1\\x12$\\xc5\\'\\r\\xc8V!B\\xc5k\\x04\\xf1y\\xf9\\xe7\\xa8\\xbeT\\xcd\\xeb\\x989\\xb1s`x\\xcc\\x00\\xc5\\x9d\\nL\\x9e8\\xb9S\\x00\\xda\\xda\\xdbp\\xbd\\xf1:~\\xb9\\xf4\\x970\\x1d5\\xa1\\xe4`I0L\\xeeA\\xd9\\xd12\\\\\\xf8\\xe9\\x02\\xe7\\xf2wDO\\xc1S)O!i\\xfe\\xcf0%zJ\\x8f!\\xd7\\x8d\\xa6\\x1bx4\\xf9Q\\xbc\\xb7\\xfb=\\x1c\\xb3\\x1e\\xe3T\\xdf\\xb5\\x1b\\xd7Pr\\xb0$ y\\xb2:\\x92\\x0e\\xf6\\x17\\x0c\\xdc\\x9d5\\xcb~\\x8d\\xb0\\xb0\\xdb\\x07Bc#\\xc7\\xe2\\xde\\xbb\\xee\\x85\\xf1\\x1b\\xa3\\xdf:\\xbe\\xf9\\xfe\\x1b\\xd49\\xeb0%z\\no{\\x85\\x08\\x1d6\\x8e\\x10Z\\xdbZQ[W\\xcb\\xcbo3o\\xe6<d\\xea3q\\xdf]\\xf7\\xe1\\x8e\\xe8;:\\x85\\x0b\\x00\\xc2\\xc3\\xc21i\\xc2$$\\xcdO\\xc23\\xff\\xf2\\x0c\\xfem\\xcd\\xbf\\x05\\xc3\\xecN\\xbe;\\xf9\\x1d\\xca+\\xcb\\xd1\\xeai\\xe5T>jl\\x14\\x9e^k\\xc0\\xc3\\xf7=\\x82;&\\xddq\\x9b\\xafh\\xc2\\xb8\\tX8{!^\\xda\\xf0\\x12\\xe2\\x15\\xf1\\x9c\\xed\\xd8\\xf3\\xf5\\x9e\\x80\\xf44\\x1bn6\\xe0\\x8b\\xf2/8\\xade\\x04\\x80\\xbbf-\\xe8\\xf5\\xf7\\xe3$\\xe3\\xb0\\xe4\\x9e%\\x9c\\x86\\x8e\\xcd\\xad\\xcd(\\xaf\\x1c\\xfa!w\\xa8\\xa0\\xe25B\\xa8<\\xf3\\x03*y\\xe4E\\x1f\\xcb\\x8cE\\xca\\xb2\\x14\\xcc\\x9f1\\xdfo\\xd9\\xc8\\x88H\\xac\\xd7\\xae\\xc7\\xbaG\\xd6!L\\x14\\x9c[\\xe6\\xdcE\\xef\\xb2\\x1f.\\x84\\x85\\x85\\xe1\\x97K~\\x89\\x87\\xee}\\xa8\\xd7\\xdeJwd\\x93ex\\xf2WOB\\xc2H8\\xd5\\xcd\\xb6\\xb0\\x9c\\x86h\\xfe\\xb8\\xc9\\xde\\xc4\\xf7g\\xbe\\xe7T\\xf6\\xe1\\xfb\\x1e\\xeew\\xa8*\\x1d/\\xc5\\xe4\\t\\x939\\xd5Ul*\\x1e5ir\\xa8x\\x8d\\x00\\x08!8}\\xe1\\x0c\\xce\\\\<\\xcb\\xa9\\xbcH$\\xc2C\\xf7>\\x84\\xe5\\x8b\\x97s>GXX\\x18\\x1e{\\xe81\\xcc\\x9d1w\\xa0f\\xf6\\xc9\\xb5\\xebWa\\xad\\xa9\\xe2\\x1c\\x04\\x1b\\'\\x8f\\x83\\xf6\\x01-g!ULSp\\xce\\x8c\\xdbp\\xb3\\x01_\\x1c\\xf9\\x82S\\xd9\\xfe\\xf8\\xb1\\xfaG\\xce\\xe9j\\xfe\\xf5\\xe1\\x7f\\xed\\xf7\\xef\\xb1w\\xc4\\xe2\\xee\\xb9\\xfewj\\x07\\x80\\xab7\\xae\\xf2v\\x1d\\x08\\x15*^#\\x00O\\x9b\\x87\\x97cz\\xc2\\xb8\\tHP$\\xf0vLO\\x9d45`\\xce\\xec\\xee\\\\\\xae\\xb7\\xc3\\xccq\\xb8\\x13\\x1e\\x16\\x8e\\x19\\xb2\\x19\\x98u\\xe7,\\xce\\xf5O\\x9d4\\x15\\x0bf-\\xf0\\xdbK\\x03|{\\x1f\\x9c?\\x85\\xb6vn\\xc3\\xbd\\xbe\\xf8\\xcb\\xbe\\xbfp*7y\\xe2d\\xbf\\x1b\\xbb\\xc4Hc0\\x7f\\xe6|NY>\\x9a\\xdcM8t\\xfc\\x10\\xa7s\\x0b\\x1d*^#\\x00W\\xa3\\x8b\\xd7\\xdbv\\xda\\x94ix\\xe0\\x9e\\x07\\x82h\\x11?Z=\\xadh\\xba\\xc9M|\\xc7I\\xc6a\\xd9\\xa2e\\x9c\\x84\\xa8;\\x1dKn\\xb8\\xe0i\\xf3\\xc0\\xe3\\xf1\\xf0\\xaa\\xbf;u\\xce:\\xceA\\xaf\\x9aE\\x1a0c\\xfc\\xe7\\xa1\\x8f\\xbd#\\x96\\x93#\\xbe\\xb9\\xa5\\x19\\'\\xce\\x9d\\xe0\\x94\\xc1B\\xe8P\\xf1\\x1a\\x01\\xd49\\xeb8\\xfbW\\x00`\\xfc\\xb8\\xf1\\x98<\\x91\\x9b\\x0f%\\xd8\\xb4\\xb4\\xb6\\xe0l\\xedY\\xceCFf\\x0c\\x83\\xfb\\xee\\xba\\x8f\\xf7y\\xc2\\xc2\\xc28\\x0f3\\xdb\\xda\\xdb8O\\x1c\\xf4\\xc6\\xfb{\\xde\\xe7\\xec\\xf4\\xbf\\xf7\\xae{9\\x95K\\x9c\\x97\\x88\\xb9\\xd3\\xb9\\r\\xd9\\xedW\\xed8[\\xcb\\xcd\\x85 d\\xa8x\\x8d\\x00\\xdc\\xcdn\\\\\\xbbq\\x8dS\\xd9\\xf0\\xb0\\xf0a\\x95\\xfb\\xc9\\xdd\\xec\\xc6\\xb7?~\\xcb\\xb9|xx\\xf8\\x80\\x86\\xae|\\x16^7\\xb7\\xb4\\xa0a\\x10=\\x97\\xaf-_s*\\'\\x9b,C\\xec\\xd4XNe\\'FM\\xc4\\xf4\\xa9\\xd39\\r\\x1d/8.\\xa0\\xe2d\\xc5\\x88w\\xdc\\xd38\\xaf\\x11\\x00\\xd7\\xe9x\\x00\\x10\\x87\\x8b\\xa1\\x8a\\xe7\\xb6\\xe4d(him\\xe1\\xb5.\\xaf\\xdeU\\x8f\\xa7\\xfe\\xf8\\x14\\xef,\\x10\\xce\\x06\\'\\xe7\\xfd2[Z\\x9b\\xd1\\xe8n\\x00 \\xe3u\\x0e\\xc0\\x1bh\\xeblpr*\\xbb4q\\tb&\\xc6p\\xae{\\xfe\\x8c\\xf9\\x18\\'\\x19\\xe7\\xb7W\\xd7\\xde\\xde\\x8eKu\\x97\\xe0lp\\x0e\\x9b\\x1ev0\\xa0\\xe25\\x02\\xe0\\xf3\\x86\\x15\\x87\\x8b\\x91\\xa0H\\x08\\xa25\\xfchko\\xe35\\xd9\\xd0\\xeaiE\\x95\\xad*\\x88\\x16\\x01\\xc4\\xf7o \\xec<\\xb0\\x93s\\xd9vBp\\xea\\xfc)\\xce\\xe9\\xa9%\\x8c\\x84\\x93\\x7f\\x0c\\xf0.\\x08?W{\\x8e\\x8a\\x17ex\\xc3\\'\\xf3BXX\\xd8\\xb0\\x1a6\\x02\\x18\\xf2<a\\xc1\\xe2\\xda\\x8dk\\x9cc\\xd5\\x00\\xe0o_\\xfd\\r{xn\\x85\\xe6i\\xe36\\x91p\\xa9\\xee\\x12N_8\\r\\xd5|\\x15\\xe7\\x89\\n\\xa1A}^#\\x00>\\xbd\\x04\\x91H\\xc4{\\xa6.\\xd8\\x0c\\xb4\\x973\\xdc\\xf8\\xdf\\x13\\xff\\x8b+\\xd7\\xaep.\\xdf\\xd6\\xe6\\x9d\\x18\\xe0\\xf3\\xe1\\xfa\\xa2\"\\x84\\xe0\\xc4\\xb9\\x13h\\xb8\\xd90\\xd0\\xaf3\\xec\\x19^w1e@\\xf0\\xe9y\\x8d\\xb6<\\xe7C\\x89\\xb5\\xc6:\\xacB\\x14\\x8eY\\x8f\\xc1^?t\\xa9\\x85\\x86\\x1a*^#\\x01\\xaaG!\\xc7v\\xc9\\x863\\x17N\\x0f:\\xb85\\x90\\xdcdo\\xe2T\\xcd\\xa9P\\x9b\\x114\\xa8x\\r%<EF$\\x12q\\xea)\\x89\\x84\\xae^#`\\xd4XUS\\x85\\xb3\\xb5\\xe7Bm\\xc6m\\xec=\\xbc7\\xe8\\xd9hC\\xc5\\xa8p\\xd8\\xf3\\x1d*\\xf1\\x99\\xfd\\xe2C[{\\x1b\\xaf\\x07U\\xc2H89[\\xf9|\\xbf\\xf6\\xf6v\\x10B\\x86\\xd5\\xf0\\x91\\x8f-\\x11\\xe2\\x08\\xcc\\x9f\\xe9\\x7f1\\xf9`\\x98)\\x9f\\t\\xc9\\x18n\\x0b\\xb9\\x01\\x80mfa\\xaf\\xb7\\x07%\\x13\\xeb`9u\\xfe\\x14.8.`\\xa6|f\\xa8M\\t8\\xa3B\\xbc\\xf8\\xee\\xfc|\\xc1\\xc1=\\xa7\\x14\\x1fZZ[\\xd0F\\xb8\\r+D\"\\x11\\xc4\\xe1\\x81\\xbf<\\xed\\xed\\xedp681i\\xc2$\\xff\\x85\\x87\\x80\\x8e\\xef\\xc95\"}\\xd2\\x84Ix\\xf3\\xd97\\x83:\\xe9\\x10\\x1e\\x16\\xce9$\\x01\\xf0n\\xb0a\\xfe\\xc1<l{8\\x9f\\x1d\\xfe\\x0c\\x86\\xb5\\x86P\\x9b\\x11pF\\x85x\\x8d\\x8d\\x1c\\x0b\\x11D\\x9cg\\xb5\\xaa\\xaa\\x83\\x13Gt\\xa9\\xee2\\xe75|\\xe1a\\xe1\\x9c\\x97\\xb3t\\xcf\\xc3\\xe5\\x0fO\\xbb\\x07\\xa7\\xce\\x9f\\x82z\\xa1\\x9a\\xf31\\xc1D\\x1c.\\x86<F\\x8es\\x1c\\x87\\\\\"\\x91\\x08c\\x99\\xb1\\xc3j\\xfa\\xff\\xca\\xb5+\\xb0]\\n\\xce\\x06\\x1e\\x81`\\x9fy\\x1f~\\xf7\\xcb\\xdfa\\x9cd\\\\\\xa8M\\t(\\xa3B\\xbc\\xc4b1f\\xc8gp\\xda>\\x1d\\x00\\xaa/\\x07\\'\\xa5\\xc8\\xf1S\\x16\\xce\\x1b\\xa7\\x86\\x87\\x85s\\x0e^\\xe4\\x93c\\xcb\\xe3\\xf1\\xc0\\xfc\\x83y\\xd8\\x88\\x97$R\\x82{\\x13\\x16s\\x16/O\\x9b\\x07\\xf6z;f\\xc8f\\x04\\xd92n\\xdcd\\x9b\\xf0\\xcd\\x0f\\xdfp\\xde\\xfc\\xe2\\xd7\\xbf\\xf85~\\x91\\xf4\\x8bA\\x9f\\xf7\\xc6\\xcd\\x1bx\\xa7\\xf8\\x1d\\xd8\\xeb\\xfc\\xcf&^\\xbbq\\r\\xa7\\xce\\x9f\\x1aq)\\xa2G\\x85x\\x01\\xc0\\x03\\x0b\\x939\\x8b\\xd7\\xd5\\xebWQc\\xafA\\x9c<.`\\xe7o\\xf5\\xb4\\xc2^o\\xe7\\xbc\\x07\\xa1$R\\x82(I\\x14\\xa7\\xb2c\\x99\\xb1\\x90\\x8e\\x97\\xc2\\xd5\\xe0\\xf2[\\xb6\\xad\\xbd\\r\\x97\\x86\\xd1\\x1e\\x7fc\\x99\\xb1\\xb8\\x7f\\xa1\\x1a\\x1f\\x1f\\xf8+\\xa7a\\xd7\\xf5\\xc6\\xeb(\\xfa\\xbc\\x08\\xff\\xf1\\xbb\\xff\\x18\\x02\\xeb\\xfc\\xd3\\xe4\\xbe\\t\\xf3\\x0ff\\xce\\xe5S\\x1fIE\\xec\\x1d\\xdc\\xd63\\xf6\\x87\\xbb\\xd9\\x8dS5\\'Q\\xf8y\\x11\\xa7\\xf2\\xc5\\x07\\x8bG\\x9cx\\x8d\\x9a\\xd9F\\xf5\\xdd\\xc9\\x9c\\xcb\\x12B\\xf0\\x9f\\x1f\\xfeg@\\x17\\xb6\\x9e\\xb9p\\x06\\'\\xaaOp.\\xaf\\x98\\xa6\\xc0\\xbc\\x19\\xf38\\x95\\x8d\\x89\\x8e\\xc1\\xc2\\xd9\\xbd\\xa7\\x11\\xee\\x8d\\x86\\xa6\\x06\\\\o\\xbc\\xce\\xb9|\\xb0\\x19\\x131\\x86\\xb3\\x7f\\xaf\\xd5\\xd3\\n\\x9b\\xdd6$\\xfbGr\\xc1~\\xd5\\xceyQ<3\\x86\\x81l2\\xff\\xf5\\x92\\xbd!\\x89\\x94@5?\\xa9s\\xc3\\x14\\x7fT\\xd7V\\xe3\\xa7\\xab\\xdcz\\xfdBa\\xd4\\x88\\xd7\\x8c\\xa93\\x105\\x96[O\\x06\\x00N\\x9f?\\x8d#\\'\\x8e\\x04\\xc4\\t{\\xbd\\xf1:\\x0e|{\\x00g.\\x9c\\xe1T>L\\x14\\x86\\xe9S\\xa7s\\x1e\\x1aM\\x9a0\\tJ\\x1e\\xeb\\x15\\xab/U\\xf3^\\x96\\x02x7\\xb5\\x08\\xc6NB\\x93\\'L\\xe2\\xb5\\xde\\xf2\\\\\\xed9\\xfc\\xf5\\xc0_\\x07\\x95s+P\\xbc\\xbb\\xfb]\\xce\\xf7\\xc8\\x86\\xd5\\x1b\\x02:\\t#\\x1d/\\xe5\\xbc\\xd4\\xebF\\xd3\\r|w\\xf2\\xbb\\x80\\x9d{80j\\xc4k\\xe2\\xf8\\x89Xq\\xdf\\n\\xce\\xe5\\xdd\\xcdn\\xec\\xf8t\\x07\\x8eV\\x1d\\x1dT\\x0f\\x8cmaQ\\xf4y\\x11\\xaf\\xddw&\\x8e\\x9f\\xc8+\\x1c@\\x1c.\\xc6\\x84q\\x13\\x10\\x19\\xc1\\xed-\\xecnv\\xe3\\x98\\xf5(g?S\\xc71\\x9f\\x1d\\xfe\\x8c\\xd7\\xee>\\\\\\x91O\\xb9\\x13K\\x12\\x97p\\xf6\\xdd\\xdddo\\xe2\\xcb\\xef\\xbe\\xc4\\t\\xdb\\x89A\\xf7\\x8e]\\r.\\x98\\x8e\\x99p\\xf5\\xfaU\\xde\\xc7\\xdeh\\xba\\x01\\xab\\xcd\\xca\\xb9\\xfc#\\xf7?\\xc2\\xfb\\x1c\\xfd1}\\xeat$\\xceK\\xe4\\x14jr\\xbd\\xf1:\\xbe\\xf9\\xfe\\x1b\\xb0\\xc3\\xa4\\xc7\\x1a\\x08F\\x8dxE\\x88#\\xb0\\xecg\\xcb\\xc0D\\xf2\\x98\\x02\\xbf\\\\\\x83\\xbcO\\xf3p\\xe0\\xdb\\x03\\x03\\x1a\\xa6\\xd8\\xeb\\xed\\xd8\\xb1k\\x07\\x8aM\\xc5\\xbc\\x92\\xdb\\xc5\\xc9\\xe3\\xf0\\xa0\\xeaA^\\xe7\\x8a\\x8f\\x8b\\xe7<\\xcc\\x04\\x80\\xe3\\xa7\\xbf\\xc7_\\xf6}\\x84:g\\x9d\\xdf\\xb2M\\xeeF\\xec3\\xef\\xc3\\xdf\\xbf\\xfa;\\x1a\\x9a\\x02\\xbfV.<,\\x1c\\xf3g\\xcc\\xc7\\xb4;\\xa6q>\\xe6\\xf4\\x85\\xd3xo\\xf7{\\xf8\\xb1\\xfa\\xc7\\x01\\t\\x98\\xbb\\xd9\\x8d/\\xca\\xbf@\\xee\\xae\\\\\\xfc\\xd7\\xc7\\xff\\x85\\xa3?\\x1e\\xe5\\x1d\\x1d\\xbf\\xcf\\xbc\\x8f\\xf3}\\xa1\\xb83\\x0e\\x93\\xa5\\x81\\xcd\\xf00~\\xecx\\xc4\\xdd\\x19\\xc7)\\xac\\xa3\\x9d\\xb4\\xc3^o\\xc7\\xa5:n[\\xb1\\t\\x81\\xf0W_}\\xf5\\xd5P\\x1b1\\x14tL\\xb1_q^\\xc1Y\\x8e\\x1bU\\x10\\x10\\\\\\xbb~\\r\\'\\xce\\x9d\\xc0\\x8f\\xd5?b\\xfc\\xb8\\xf1\\x9c\\x9c\\xad\\x8e\\xab\\x0e\\x14}Q\\x84\\xc2\\xcf\\x0bq\\xc8r\\x08-\\x1e\\xeeC\\xad1\\xe21x\\xfc\\x97\\x8f#q^\"\\xe7c\\x00o\\xb2\\xba3\\xb5g8\\xe7\\xc6joo\\xc7\\xa5+\\x97p\\xae\\xf6\\x1c\\xe2g\\xc6C:^\\xdak\\xb9\\x8b?]\\xc4\\x9fv\\xfe\\x19\\xfb\\xcc\\xfb8\\xcf\\x94vp\\xef]\\xf7\"A\\x91\\xc0i\\xa84Y:\\x19g.\\x9eA\\xf5\\xa5j\\xce\\xc30\\xc7U\\x07N\\x9c;\\x81K\\xf5\\x97\\xb0`\\xd6\\x02N\\xf1|\\x97\\xae\\\\\\xc2\\xce/v\\xa2\\xe8\\x8b\"|q\\xe4\\x0bT\\x9e\\xabD\\x93\\xbb\\t5\\xf6\\x1a<\\x9a\\xfc(\\xe7\\xde+\\x00d\\xff%\\x9bs\\x8f\\xed\\xb7\\xda\\xf5\\xbd\\xee\\x88=Xn\\xbao\\xe2G\\xdb\\x8f\\x9cr\\x88\\xb9[\\xdc\\x88\\x9d\\x1a;\\xacR\"\\r\\x86Q3\\xdb\\x08x}\\x04\\x0f-~\\x08\\x15\\'+x=\\x88W\\xaf_\\xc5\\xe1\\xef\\x0f\\xe3\\xdb\\xaao1q\\xdcDL\\xbbc\\x1a\\xeeR\\xdc\\x8593\\xe6tn\\xa9e\\xaf\\xb3\\xe3\\xc7\\xea\\x1fQ}\\xa9\\x1a\\xf5\\xaez4\\xb9\\x9b8\\xa7/\\xe9\\xce\\x0c\\xd9t<\\xaa~\\x94\\xf7qc\"\\xc6@\\xbdP\\r\\xf3\\xf7f\\xce\\xdf\\x8dmaq\\xe4\\xc4\\x11T\\x9e\\xad\\xc4\\xe4\\x89\\x931o\\xe6<\\xc8c\\xe4h\\xf5\\xb4\\xe2r\\xdde\\x9c\\xab=\\x07W\\xa3\\x0b7\\xd9\\x9b\\x03\\xea\\xdd\\x9c\\xbdx\\x16\\xb5?\\xd5b\\xd6\\xb4Y~\\x876\\x91\\x11\\x91x|\\xd5\\xe38W{\\x0e\\xa7/\\x9c\\xe6|\\x8e\\x1a{\\rj\\xaf\\xd4b\\xff\\x91\\xfd\\x98~\\xc7t$\\xce\\xbb\\x07sf\\xcc\\xedtd\\xd79\\xebp\\xee\\xe29\\xd4\\xd8k\\xe0\\xb8\\xea\\xc0\\x8d\\xa6\\x1b`[\\xd8\\xdb\\x128\\x9ew\\x9cG\\xcd\\xe5\\x1a,\\x9c\\xb3\\x90\\xd3y\\xabk\\xabq\\xe9\\n\\xf7Y\\xdb\\xf88%\\xe7\\xb2|\\xb8g\\xde=\\x98?s>l\\x97m~E\\xbf\\xc9\\xdd\\x84\\xea\\xdaj4\\xb9\\x9bFD\\xcc\\x97\\x88\\x0c\\xd7\\xb0\\xe0 \\xd1\\xd2\\xda\\x82\\xff.\\xf9o\\xdeC\\xb9\\xa1`\\xc2\\xb8\\t\\xf8\\xf4??\\xe5\\x1c\"q+\\x9e6\\x0f\\xb6\\xfc\\xd7\\x16^i\\x95\\x83MxX8\\xc6D\\x8c\\x81l\\xd2T\\xdc\\xbb\\xe0><t\\xefC\\x98\\x1d;\\xbb\\xcf\\xa1N\\xfe\\xdf\\xf3\\xf1\\x91\\xf1\\xa3\\x90\\\\\\x1b\\xf9d9>\\xfd\\xcfO{\\x15\\xda\\x16O\\x8bWX\\xcf\\x9f\\xc6w\\'\\xbfC\\xe5\\xd9J\\\\q^\\xe1\\xdcK\\x9c2i\\n\\xe6M\\x9f\\x87\\x07\\xee~\\x00\\xaax\\x15\\xa6M\\x996`\\xe7}\\xa3\\xbb\\x11g.\\x9c\\x81\\xb9\\xd2\\x8c\\xef\\xac\\xdf\\xe1\\xbc\\xfd<\\xe7\\xe1\\xeb8\\xc98\\xcc\\x9a6\\x0b\\t\\x8a\\x04\\xdc{\\xd7\\xbd\\x98)\\x9b\\t\\xd9d\\xd9\\xb0K\\x93\\xc4\\x85Q\\'^\\x80\\xd7I\\xfb\\xdf%\\xff\\r\\xe37\\xc6\\x01\\xf5\\x8e\\x82\\xc1\\xb4;\\xa6\\xe1?\\x1e\\xff\\x0f\\xfc,\\xfeg\\x83\\xaa\\xc7j\\xb3\\xe2\\xf9???\\xacB!\\xba\\x13%\\x89\\xc2K\\x1b^\\xc2/~\\xf6\\x8b^\\xffN\\x08A\\xe6;\\x99\\xf8\\xaa\\xe2\\xab\\x90,\\xb7)\\xd8Z\\x00\\xa5\\xe2\\xf6^\\xd27\\xdf\\x7f\\x83?\\xbc\\xfd\\x87\\x80$NLP$ sc&\\x14w*\\x06t\\xfc\\xdb\\x9f\\xbc\\x8d\\x8f\\xf7\\x7f\\x1c\\x90\\xf6\\x89\\x93\\xc7\\xe1\\xcd\\x7f\\xcf\\xc6\\xb4)w\\x0e\\xba\\xae\\xa1Fxr\\x1b\\x00\\xa4\\xe3\\xa5x\\xe2WO`\\xd5\\x03\\xab\\x86\\xc5\\x02\\xe5\\xb93\\xe6\\xe2\\xff\\xac\\xfb?\\xb8g\\xee=\\x83\\xaeK\\xa9P\\xe2_\\x1e\\xfa\\x97\\x00X\\xd5;\\xf7\\xcc\\xbb\\x07b\\xf1\\xc0\\xbd\\r\\xed\\xa4\\xbd_\\x01\\x10\\x89Dx\\xe5\\x89W\\xf0\\xd0\\xe2\\x87Brm\\xde\\xfb\\xfb{\\xbd\\xbe\\xd0\\xfc\\xd9\\xcd\\x07B\\xc8\\xa0\\x84\\xa7cq} h\\'\\xed\\x82M\\xa94*\\xc5\\x0b\\xf0n\\xe4\\xf9\\xc4\\xaf\\x9f\\xc0o\\x1e\\xfd\\r$\\x91\\xdc3\\x08\\x04\\x920Q\\x18\\x12f%`s\\xcaf,V.\\x0eX\\x0cP\\xda\\xca4\\xbf\\xbb0\\x0f\\x04\\xd9d\\x19\\x1e_\\xf58/\\xa7\\xf6@`\\xc60H\\x7f,\\x9d\\xd7\\xae\\xd8\\x81\\xc2q\\xd51lz\\xe3\\x94\\xfe\\x19U\\x0e\\xfb[\\x99<q2~\\xb7\\xfawH\\x98\\x95\\x80\\x8f\\xf7\\x7f\\xcck\\xef\\xc3\\xc1\\x12!\\x8e\\xc0\\xea\\x07WC\\xf7\\x0b\\x1df\\xcag\\xf2Z\\\\\\xcd\\xa5\\xee\\x8d\\xab7B$\\x12a\\xe7\\x17\\xdc7\\x84\\xe8\\x8f\\x18i\\x0cR\\x1fI\\x85j\\x9ejH\\xf2\\x87M\\x89\\x9e\\x82\\xa7tOa\\xe2\\xb8\\x89\\xd8\\xfd\\xe5\\xee!\\x89\\xa8\\x7fT\\xfd(t\\xcbt\\x18#\\xe6\\x97\\x85\\x84\\x12\\x1aF\\xb5x\\x01\\xdee\\x16\\x0f\\xaa\\x1e\\xc4=s\\xefA\\xc9\\x97%\\xf8\\xf8\\x8b\\x8f\\xd1\\xe8\\x0en*\\xdf9\\xb1s\\xf0\\xea\\x93\\xaf\"\\xf6\\x8eX\\xde\\xe9z\\xb8\\x1256\\n\\x1bWoDdD$\\n?/\\x1c\\x94\\x03|\\xd2\\x84IxJ\\xf7\\x14\\x1e\\xbe\\xefa\\x88\\xc5\\xde\\x80\\xd8`\\xb7\\x11\\xe0}\\xb9<\\xb9\\xe6I\\xdc=\\xf7n\\xbc\\xfd\\xc9\\xdb\\xbcf\\xf7\\xf8\\xa0\\x8cS\\xe2\\x99\\x7fy\\x06\\xca8%\\xe7\\xe56\\x94\\xd03\\xea\\xc5\\x0b\\xf0\\xfaY\\xa4\\xe3\\xa5\\xd8\\xb8z#\\xd6\\xfc|\\r\\x8a\\xbe(\\xc2\\xdf\\xbf\\xfe;Z=\\xad\\xf0x<\\x83N\\xed\\x1b!\\x8e\\xc0\\x98\\x881\\x98=m66\\xfdz\\x93\\xd7o\\x14\\x84\\\\]\\xb72N2\\x0e\\xfa_\\xe9\\xa1\\x8cS\\xe2\\x9d\\xe2wp\\xb9\\xfe2\\xaf\\xe5=c\"\\xc6`b\\xd4D\\xbc\\x91\\xfe\\x06\\xe6\\xc7uE\\xfc\\xff\\xfcg?\\x0fX\\x8f\\x8e\\x8b\\r\\x0f\\xaa\\x1e\\xc4\\xe2\\x84\\xc5\\xf8\\x7f\\xa5\\xff\\x0f%\\x07K\\xd0\\xda\\xda\\x8a\\x16O\\xcb\\x80\\xfd>\\xdd\\xaf\\xc7z\\xedz,NX\\x1c\\xb4\\x97\\x08%xP\\xf1\\xba\\x85\\xe8\\t\\xd10\\xac5`\\xe3\\xea\\x8d\\xf8\\xfe\\xcc\\xf7\\xf8\\xb2\\xe2K\\\\p\\\\\\x80\\xbb\\xd9\\x8dFw#\\x1a\\x9a\\x1a\\xd0\\xdc\\xda\\x8c\\xb6\\xb66\\xb4\\xb5\\xb7u>@aaa\\x10\\x87\\x8b!\\x0e\\x17c\\x9cd\\x1c\\xc6\\x8f\\x1d\\x8fq\\x92q\\x90DJ\\xb0(a\\x11~\\x91\\xf4\\x0b\\xc8&\\xcb\\x86D\\xb4\\xba\\x13\\x1e\\x16\\x8e\\xa5\\xaa\\xa5X\\xa4\\\\\\x84\\x03G\\x0f\\xe0\\x8b\\xf2/p\\x93\\xbd\\tg\\x83\\x13\\rM\\rh\\xf1\\xb4t\\xc6<\\x89\\xc3\\xc5\\x18\\xcb\\x8cE\\xf4\\x84hL\\x8c\\x9a\\x88\\x95\\xea\\x95xT\\xfd\\xe8m\\xbd\\x91G\\xee\\x7fd\\xc09\\xcf\"\\xc7DB\\x1a\\xd5{@l\\x7fH\"%xJ\\xf7\\x14R\\x1fI\\xc57?\\x98a:Z\\x86k7\\xae\\xa1\\xa1\\xa9\\xa13v\\xcb\\xe3\\xf1t:\\xd5\\xc3Da\\x08\\x0f\\x0fG\\x848\\x02c\\x19\\t\\xc6\\x8f\\x9d\\x80\\xb1\\xccXL\\x187\\x01\\xaa\\xf9*<|\\xdf\\xc3\\x98,\\x9d\\xccy\\xb8>1jb@&T\\x00o\\xa6V>\\xc9\\x0eoe\\xda\\x94i\\x01\\xb3e\\xea\\xe4\\xa9\\x88\\x14\\xe80yT\\x86J\\xf0\\x81\\x10\\x82\\x16O\\x0b\\x9c7\\x9c\\xb0\\xd7\\xdbq\\xe1\\xa7\\x0bp\\xdep\\x82ma;E\\x0c\\xc4\\xfbPF\\x8e\\x89D\\x94$\\n\\xf2\\xc9rL\\x97M\\xc7\\x1d\\x93\\xee\\x80$R\\x12P\\x7f\\xd6`imk\\xc5U\\xd7U\\x9c:\\x7f\\n\\x17\\x7f\\xba\\x88\\x1bM7\\xd0\\xdc\\xda\\x0cB\\x08\\xc61\\xe30u\\xf2T\\xcc\\x9b1\\x0f\\x8a;\\x15\\xfdNd\\x0ct\\x18*\\x12\\x89\\x10&\\n\\x1bt\\\\\\x91\\xa7\\xcd\\x83\\xeb\\x8d\\xd7Q{\\xa5\\x16\\xb6K6\\\\\\xbdq\\x157\\xd9\\x9b\\xf0x<  \\x88\\x10G rL$\\xc61\\xe3 \\x9b,\\xc3\\x0c\\xd9\\x0c\\xdc\\x11}\\x07\\xc6I\\xc6\\r\\xe8\\x05B\\x08\\t\\x98#_$\\x12!<,|\\xc0\\xb3\\xa9m\\xedm\\x01\\xcdx2\\x9c\\x12;\\xf2\\x81\\x8a\\xd7\\x00\\xe8\\x9c\\xea\\x16\\xf9\\xb6\\x1d#]\\x9be\\x0c\\x87\\xd0\\x0b>\\xb4\\xb7\\xb7{3\\xcc\\x12o\\xefQh\\xf6w\\xd0qM:\\xb2\\xe5\\x8a \\xcc\\xebA\\xe1\\x0e\\x15/\\n\\x85\"HFm\\x9c\\x17\\x85B\\x116T\\xbc(\\x14\\x8a \\xa1\\xe2E\\xa1P\\x04\\t\\x15/\\n\\x85\"H\\xa8xQ(\\x14AB\\xc5\\x8bB\\xa1\\x08\\x12*^\\x14\\nE\\x90P\\xf1\\xa2P(\\x82\\x84\\x8a\\x17\\x85B\\x11$T\\xbc(\\x14\\x8a \\xa1\\xe2E\\xa1P\\x04\\t\\x15/\\n\\x85\"H\\xa8xQ(\\x14AB\\xc5\\x8bB\\xa1\\x08\\x12*^\\x14\\nE\\x90P\\xf1\\xa2P(\\x82\\x84\\x8a\\x17\\x05\\x80\\x15\\xaf\\xa9%\\xde\\xcc\\xa3\\xaa\\xd7`\\x11\\xca\\xb6\\x855%H_:\\x0b\\xd1Sfa\\xf9+&8Bm\\x0feH\\xa1\\xe2E\\x11,\\xa6\\xb7\\xb6 \\xef\\xb0\\r\\xaez\\x1bL\\x7f\\xdc\\x82\\x82\\x13\\xa1\\xb6\\x882\\x94\\x8cn\\xf1j4\\xe2\\x89\\xe9\\xbe\\\\\\xe7\\x11\\t\\xd8r$\\xd4\\x06Q\\xf8\\x10-\\xed\\xb6\\x03\\x0f\\x13\\riT\\xe8l\\t\\x05\\xae\\xe3%x\\xed\\xe9\\x14,W\\xcdBt\\xb4\\x04\\x12\\x89\\x04\\xd1\\x8a\\x04$\\xeb\\xd2\\x91\\xb3\\xdb\\nW\\xa8\\r\\x0c6d\\x14S\\xbdCC\\x18\\x80\\xc0\\xf7\\x91\\xad+&\\xceP\\x1b\\x15\\x12\\xaaH\\xd6\\xfd\\x8c\\xb7\\x1d\\x12\\xb3HE\\xeb\\xd0\\x9e\\xbdzO6\\xc9\\xda\\x96E\\xb2^/$\\x15n\\x1e\\x076T\\x90\\xfc\\xe7tD\\xb32\\x95d~RM\\xf8\\x1c*hZ\\xed\\xa4\\xf4\\x05\\r\\x91\\x89\\xbb\\xee\\xdd\\xdb?\\x0cQ\\xac\\xce&\\x15\\r\\xa166x\\x8c^\\xf1j5\\x93\\x8c\\x05\\xbe\\x0b\\xddq\\x130j\\x92m\\r\\xb5a\\xa1 \\xb4\\xe2U\\xb6Y\\xe6k\\x7f-)\\x1c\\x9do\\x0f\\x1e\\xb8I\\xc56\\xb5\\xef\\xa5\\xcb\\x10\\xc5\\xeaLRh\\xaa\"\\xf6\\x06BH\\xab\\x9b8\\xade\\xa4\\xf0\\x05\\rQ0\\xde{Z\\xb1\\xa9t\\xc4\\xbe\\x90G\\xed\\xb0\\xd1\\xb5;\\x17\\x85\\'\\x01\\x88eH}#\\x0b\\x9a(\\x00l9\\xf2v\\x98\\xc0\\x86\\xda8\\n\\xa5/\\xeaK\\x90\\xf5V9X\\x00\\xb2\\xb5\\x050\\xef\\xc9B\\xea2%dQ\\x00\\xc4\\x0c\\xa4\\xf1\\x1a\\xa4\\xbeQ\\x86\\xd2m\\x1a0\\x00l;\\xf3P<Bg2F\\xa9xYQ\\xb0\\xbd\\x04\\x0e\\x0f\\x80x=\\xb6<c@\\xc6Z\\x19\\x00\\xc0\\xf6Q\\x0e\\nG\\xe8\\xc5\\xa6\\x08\\x1f\\xb6\\xdc\\x04\\x93\\x0b\\x80X\\x89\\xb4\\xe7S!\\xeb\\xa3\\x9crC*4\\x0c\\x00\\xd6\\n\\x8bu\\x08\\r\\x1cBF\\xa5x\\xb1\\x07\\xf3\\x90w\\x84\\x05\\xc0@\\xfbl:Tb)\\xb4O\\xeb\\xa1\\x12\\x03p\\x99\\x90\\xf7\\x9e%\\xd4&R(\\xbd\\xc2\\xba\\x9c\\xde\\x91\\x81X\\x0eEl?\\x05\\x19\\t\\x18\\xfe\\x1b\\x83\\x0b\\x8aQ(^\\x0e\\x14\\xfe\\xa9\\x106\\x0f\\x80\\xd84\\x18\\xd6\\xf9\\xde]\\x8b\\xd2aX!\\x05\\xc0\\xc2\\xf2n\\x1e\\x8c\\x8d<\\xab\\xad/\\xc0*\\x89\\x08\"\\x91\\x04\\xc9\\x7f\\xec\\xf6\\xaasYa|{\\x0b\\xd2\\xb4\\xc9HPDC\"\\x11A$\\x89\\x86|n\\x12\\x96?\\x96\\x8e\\x9c]\\x16\\xb8x\\xc7U\\xb1p\\x1c)A\\xde\\xff\\x97\\x8e\\xb4\\x87\\x93\\x910W\\x8e\\xe8h\\tD\\x12\\t\\xa2\\xa7\\' \\xe9\\xe14\\xa4\\xff\\xb1\\x08\\x96\\x00\\xf4 \\xd9\\x83[0+\\xc2;#\\x9b\\xf4\\xca\\x00E\\xfdd\\x0e\\x92;\\xda\\xe6M\\x1bP\\x93\\x87\\xe5\\x92\\xae\\x1d\\xad\\x97\\xbf\\xe33\\x945\"-Z\\xd4c\\xf7q\\x91H\\x04\\xd1\\xf8\\x14\\x94\\xf46\\x96\\xefls\\x11\\xe4\\xcf\\x9a\\xb8\\xdb\\xe3q\\xc1\\xb2;\\x0f[6\\xaeB\\xf2\\xc2Y\\x90GK \\x8a\\x90 Z>\\x0b\\tKS\\xf0\\xc4+\\x050\\x9e\\xe5\\xe6<p\\x9d4\"\\xef\\xa5\\'\\xb0ji\\x12f\\xc9\\xa3!\\x89\\x10A2>\\x1arE\\x02\\x92\\xb5iH\\x7f)\\x07E\\x87m\\x01sEHc\\xa2!\\x15\\x03\\xf0\\xd8`\\xab\\xe9\\xc7\\xae\\x83&\\x98Y\\x00\\x8c\\x12*e\\x80N>\\xdc\\x08\\xb5\\xd3m\\xc8\\xb1d\\x11\\x15\\xe3uv\\xaa\\xb6U\\xf4\\xf8\\x93\\xdb\\xa8\\'\\n\\xb1\\xf7o\\x9a\\x1d\\xd5\\xfc\\xea\\xad\\xcb\\'Z_\\xbd\\xea\\xd7\\xab\\x08!NR\\xb1#\\x95\\xa8b\\xfa\\x9b\\x11\\xf2~\\xa4\\x8b\\xf4$\\xbf\\x92\\xcb\\\\\\x99\\x9bT\\xef\\xc9\"\\xa9\\x8b\\xa4~\\xeb\\x04@ U\\x92\\xd4w+8\\xcc\\xc2\\xf5\\xe7\\xb0\\xaf&\\xd9K|\\x7f\\x8b\\xd5\\x93R\\xde\\xb3WnR\\xf6\\x8c\\xc2{|L*)\\xac#\\x84\\xd8r\\x89\\x86\\xe1`\\x7f\\xc7\\'JG\\x8a{\\xfb\\x12\\x9dm\\x0e\"{\\xa6\\x8c\\x93-\\xd5{2\\x89v\\x0e\\xe3\\xff\\x9cb)Qo\\xca\\xef{\\xb6\\xce]E\\n7\\xab\\x89\\xb4\\xdf\\x19\\xbfn\\xd78^K2>\\xa9\\x1a\\xfc\\x8ch]!\\xd1\\xf9\\xee)\\xc5\\x86>\\x9c\\xf1\\xf6R\\xa2\\x8f\\xf7~G\\xd9\\xfa\\x91;\\x83>\\xc2;\\x96\\xb7\\xe2\\x82q{.,,\\x00\\xa9\\x06\\x86M\\xaa\\x1e\\x7feV\\x18\\xa0O,\\xc4\\xd6c,L;\\xf2P\\xbe!\\x1bj\\xa6\\xf7\\x9a\\xfa\\xc7\\x0e\\xe3\\xf3iH\\xf9\\x93\\x05,\\x18\\xc8\\x16i\\x91\\xf2O\\x1a\\xa8\\xe2\\xe5\\x90G1`]v\\xd8,&\\x14\\xef,Ay-\\x0b\\xd7\\xb1\\x02<\\xb1\\xc2\\x0e\\xf6@1\\x0c\\x0b\\xfa:\\xa1\\x0b\\xc6g5H{\\xdb\\xd2\\x19\\xbf\\xc3\\xc4\\xaa\\xa0Y\\xa1A\\xf2B\\x05d1\\xd1\\x90x\\x9c\\xb0\\x9f\\xb1\\xc0\\xb4\\xaf\\x14\\xc6\\xe3\\x0e\\xc0eE\\xd1\\xd3Z\\xb8X\\x13J\\x9f\\x19\\xe8\\xebW\\x01\\xfd\\xd3:d\\x1d)\\x82\\xab\\xb6\\x18y;\\xb3\\xa0\\xdd\\xd4\\x97\\xa7\\xa5\\x17\\xeaK\\x90\\xb7\\xd3\\x06\\x00P\\xaeO\\x87.\\x06@T\\n\\xb2\\x8dJ8}E,\\x7fJ\\xc1\\x96\\xbd.\\x80Q#\\xb3(\\x0b\\x1a\\xe9\\xad\\x95\\xc8\\x914\\xa0\\xeb\\xd0\\x1d\\x07\\x8c\\xbf\\xd7!\\xedO\\xe5\\x9d=]\\xe9\\x02\\rRVj\\xa0\\x9a\\xab@4\\xe3\\x86\\xd3a\\x83\\xb5\\xdc\\x88\\xe2}\\x168X\\x17\\xca\\xdf{\\x02\\x1a\\x8b\\x15\\xc5\\xfb\\xb2\\xa1\\x89\\xe9V\\x95\\xc7\\x86\\x82T\\r\\x9e\\xd8\\xed\\xeb1\\xc6(\\xa1]\\xa3\\x83F\\x95\\x00y\\x0c\\x03\\xc6\\xc3\\xc2Yo\\x83\\xb5\\xb2\\x02\\xe6\\x03F\\x94\\xd7\\xb0p\\x9d4\\xc1T\\xc9\\x02k\\x07\\xf95bt\\xd8\\xb2A\\x89\\x927\\xad\\xb0}\\x94\\x0e\\xc3J3\\n\\xd7v]\\x0f\\xd7\\xb1<\\x18\\xd6oA\\xd1I\\x16\\xcc\\x1c=\\xf2\\xde\\xd0\\xe1\\xb6\\xe6\\x1c)\\x84Z=\\x87\\x14[.\\xd1D\\xf9\\xdeZ\\x9b\\xcbz}\\x0b\\xda\\xdf\\xd7\\x12)@ \\x96\\x91\\xd4\"\\x1e\\xef\\xac\\xee\\xbd\\x80\\x05J\\xef\\x1b9FM\\x0cE\\xfd\\xbcm\\xddU\\xa4p\\x83\\xb23\\xd6\\x8c\\xb9?\\x8bT\\xf5\\x13\\xa6P\\xf5\\x967.M\\xbaHO\\xb2\\x8d\\xfd\\xbd\\xc5\\xdd\\xa4\\xea\\xfdT\\xa2\\x8c\\xea\\xe8\\x81iH\\xae\\xad?\\xe3\\xfd\\x84J\\xb8\\xcd$#\\xdeWWb&\\xafP\\x8a\\xaa7|\\xd3\\xfaQj\\x92}\\xa6\\xf72\\x03\\x0e\\x95\\xe0\\xdc\\xf3r\\x13\\xf3\\x8b\\xea\\xaev\\x8e\\xd3\\x92\\xcc\\x92~\\xda\\xcfn&\\xb9\\xeb\\xbb\\xae\\x8blu>\\xe9\\xde\\x0f\\xb7\\x7f\\xa8\\xeb\\xecq\\xc9Vf\\x11s]\\x7fF:I\\xd5\\x9e,\\x92\\xba\\xc2@J\\x03\\xd5\\x05j0\\x93\\x8cD\\xdf\\xf5\\x92\\xaaI\\xe6!\\'!\\xeejR\\xfa\\xb2\\xb63DB\\x9ah \\xc5\\x83\\x7f\\xce\\xc0\\x00\\x00\\x1cVIDAT\\xb6\\x00\\x9do\\x982\\x8a\\xc4\\xcbM\\xcc/(;\\xe3\\xb9\\xb2*\\xfb(\\xd6PF\\x0cq\\x1db\\x92M\\xaa\\xb8V\\xdf\\xedA\\x82\\xefa\\xcd,\\xe72H\\xa8&\\xf9k|\\x0f\\xafXFRK\\xfa9\\xc6]A\\xf2\\xdf*%v\\x8e\\xe2\\xd1!v\\x00\\x88\\xea\\xe5\\x8a\\xfeJ\\xfa\\x8d\\xf3\\xaa\\xee\\xa8K,#\\xfa=\\x1c\\x07?\\xee2b\\x98\\xe3?\\x008\\xd8\\xe2\\xe5\\xdco J\\x9f\\xd80\\xf1zR|\\x91K\\xe5NR\\xf6\\x9c\\x8aH\\xe7\\xe8H\\x96\\xc9\\xde\\xe3\\xf7\\x85k:\\x84CK\\xf2\\xed}V\\x10\\\\\\xce\\xe4\\x13]\\xac\\xef^\\x8bQ\\x12U\\xc7PX,%\\xaa\\xcd\\xf9\\xa4j\\x04\\x07\\xa7v0z\\xc4\\xab\\xae\\x90\\xa4\\xfa|\\x05\\xd25\\x85\\xa4\\xbf{\\xae\\xeau\\xdf[Z\\xac \\x86\\xfd\\x1c\\x1f\\xd4\\x1e\\xe2\\xc5\\x10\\xf5\\xb6\\xfe\\xc4\\xe2\\x16,\\x99D\\xd5\\xf1&\\xdfP\\x1a\\xb8H\\xf1\\x86b\\x92*\\xf3=\\xb4K\\xb2I\\xdf^<\\x0eA\\xaa\\xce\\xae\\xba\\xa4+\\xf3\\xfbm\\xbf\\xceC>\\xd4\\xf9z\\xb1J\\x92q\\xa8\\xefo\\x15\\\\\\xf1\\xaa\\xea\\xf2\\xd9E\\xa9H\\xd6Q\\x1e\\xad\\xdb\\xea&\\xce\\xdbD\\xa0{[\\xf1\\xeb\\x85\\x06\\x9a\\xea\\xed\\xbeQBG\\x8f2>\\x95d\\x9bB\\xa5\\xa6C\\xcf\\xa8\\x99m\\xb4~\\x90\\x8b\\x92z\\x00b\\x05\\xd2\\x9e\\xd1\\xf5\\x19\\x1f\\x03\\x00\\xca\\r\\xe9\\xd0\\xc6\\x00\\xf0\\xd8P\\xf8v!\\xffl\\x05Q\\x1a\\xe8o\\xf1\\xa7\\xf5\\xcb\\x82U\\xd0\\xce\\xf1\\xfe\\xe8\\xb0X`\\rTV\\x87\\xa8dhT^g\\x11[c\\xf3\\xce\\xb0\\x0e\\x14\\xa9\\x0e\\xe9\\xeb\\xbd~3\\xd7\\x81<\\xe4\\x1e\\xf7w\\x80\\x15\\x05;\\x8cp\\x01`\\x96\\xeaaX2h\\xa7\\xd5\\xc08V\\x88\\x82#\\xde\\xb9>\\xd9\\xba,d,\\xe2a\\x87\\x98\\xe9e\\xbdd4\\xa4\\xe3}?\\xd6\\xda`\\xe5;+\\x1d\\x08\\xea\\xcb\\x91\\xb71\\tI\\xcf\\x1b{\\xac_d]. z\\xc4z\\xb8nct\\x88W\\xa3\\ty\\xefz\\xa3\\x92\\x99\\xfb\\r0,\\xf3s\\x03\\xcbt0\\xacS\\x00\\xe0\\xfa\\xa0\\xf6\\x84I\\xd4@\\xc3\\xc3\\xa7\\r\\xb1\\x12\\tJ\\x9fM\\xb56\\xd8\\xf9\\x9d\\xae\\x1fd\\x88\\x8e\\xf1\\xd5\\xebr\\x0ez\\xa1\\xae\\xfai\\x83w%\\x82\\xc7\\x82\\x82\\x1d\\xc6~\\xa7\\xff\\xd9\\x83y\\xc8;\\xc6\\x02b\\x19t\\x9b\\xf5P\\x0c\\xf2\\xdc\\x03\\xc5z\\xc0\\xe8\\x15m\\xb1\\x02)\\xeb\\xbcQ\\xe7\\x83C\\x06\\xcdR\\xa5\\xb7\\x9e\\xfa\"l\\xdd\\x98\\x83\\xf2\\xfaAW\\xca\\x19\\xd7\\xc1\\xd7\\xb0j\\xb1\\x06\\xe9\\x1fX\\xe0\\x12+\\xa0}\\xb1\\x18fS\\xb6\\xf7~s\\x18\\xb1ee\\nr\\x8e\\x8f\\x8e5\"\\xa3B\\xbc\\x1c\\xbbrPx\\x16\\x80/\\x18\\xd5\\xff\\xbc\\x1b\\x03\\xcd\\xd3\\x06\\xefL#kA\\xc1v#\\xaf\\x07\\x9fQ(!\\xe7e\\xa1\\x14\\xd2(\\xdfc\\xc5\\xba\\x03\\xba<)\\xa0\\x81\\x8aqi0\\xac\\xf1\\xaa\\xb2cW\\x1e\\nk\\xfb*\\xe8B\\xc9\\xdb\\xbeX\\xba9iH_\\x13\\xaa\\xde\\x00\\x0bk\\xa5\\xd5\\xdb\\x9e\\x8c\\n\\xc9\\xaa\\xc0\\xf4\\xfe\\x94\\x9b\\xb3\\xa0\\xf7\\xcd\\n\\xdbvoA\\xb22\\x01\\xab\\x9e\\xdc\\x8a\\x9c\\x8f\\x8c(?\\xe9\\x00\\x1b\\xa4|h\\xb6\\x8f\\xd2\\x90\\xac\\xdd\\nc\\r\\x0b\\xe9\"=\\xf2\\x8fV\\xa1\\xf4u\\x1d\\xd4\\xcb2P\\xba\\x97\\x8b\\x80\\xb9`\\xfc}\\n\\x9ex%\\x0f\\xc6\\x93#@\\xe0B=n\\r:\\xad\\x15$3\\xd1\\xe7\\x17\\x88\\xcf f\\xce.\\x0f\\')\\\\\\xe7\\x8b\\xa7\\x8a\\xf27[Gz\\xfa_6s\\x899\\xeaI\\xe9\\x86\\x8es\\xa5\\x92b?~\\x14\\xa7\\xa5\\x98d\\xbf\\x90J\\xb4K\\x94D!\\x93\\x12\\x86K\\xacQ\\xbf\\xf5\\xf2X\\x98}4\\xb3\\xd3\\xf9\\xdd\\xe7$\\x805\\x8b\\xa8}1o\\x9a\\xed\\xfe\\xe3\\xe5\\x82\\xe7\\xf3\\xb2\\x93\\xdc\\x15\\x1d1j\\x06R\\x16H\\xff\\xd4\\xc5R\\x92\\xb9R\\xd1#+IW[\\xcb\\x88r\\x89\\x8e\\xe8_\\xc8&\\x85\\xfb+\\x88=\\x00NL\\xa7\\xd1@\\x94\\x1d\\x8b\\xad\\xd7\\xf6\\xee\\x90w\\x1f\\xcd&\\x1a\\x9f_\\x122-\\xc9\\xb5\\xdcrbw\\x191\\xc4z\\xaf\\x8b\\xf6}\\xe1G\\x7f\\x8d\\xf88/\\xd7\\xbe\\xbc\\xce$u\\n\\xb5\\x12\\xeer\\x13\\xb8\\xc6bK\\x17&C\\xba\\xcb\\x08W\\xa3\\ty;\\xca\\xa1\\x7fC\\xcdm\\xd8\\x11\\xacV\\xf5\\xd8P\\xf2|\\x1a\\xf4\\xef\\x94\\x0f *?@,J\\x87aE\\x0e\\xd2\\xf7\\xb1\\xb0|\\x90\\x07\\xe3\\xef\\xf3\\xa1\\xed\\xe1\\x17ba\\xdaQ\\x80r\\x16\\xde\\xe1\\xf7\\xfaP\\r\\x18\\x83L\\xac\\x16Y\\xc6*\\xa4\\x1f3\\xa2\\xb8\\xc4\\x08\\xd3!3L\\xc7\\xacp\\xb1\\x00\\x1a\\x1d\\xb0\\x1e.\\x81\\xf5p\\t\\n\\xde\\x04\\x18\\x99\\x1ai\\xaf\\xe4 {\\xb3z`1W\\x8d&l}6\\x0fV\\x16`\\xee\\xcfB\\xf1\\x87z({\\xb9\\x11\\x99E\\x19(\\xdd\\x0b\\xacZ\\xbd\\x05&\\x87\\x11\\xe9\\xabS\\x80\\xbd\\xc50$\\xfa\\n\\x1f3\\xc2\\xe8\\x00\\xc0\\xa8\\xa0Y:\\x02|c\\xa1V\\xcf\\xe0R\\xdd\\xf5\\xe6\\x1d\\xec\\'F\\xe7\\x8d\\x0e\\xef\\x0b\\xde\\xd1\\xde=\\xf1\\xdf\\xf3r\\x13\\xf3\\x0b\\xaa\\xce7\\xbdtQ*\\xc9z\\xbf\\x8cT\\x9cq\\x12w?ovn=:~)q\\xdc{\\xf4\\xbe\\\\RR\\xa2}\\xf7\\x96\\xd9\\xadn\\x11\\xe0\\xca\\x17\\xcd\\xfdW\\xe4#x=/7)\\xee\\xec=\\xeb\\x82\\x9fn\\xa7\\xd5I\\xaa-e\\xa4\\xf8\\xfdl\\x92\\xf9\\x8c\\x8eh\\xe2\\xbb\\xaf\\x84`\\x88\\xea\\xb9\\xb2\\x01E\\xbb;\\x8b:fm\\x15Do\\xf4\\xdf\\x8d\\xeb\\xd1\\x03\\x8b\\xd5\\x92\\xdcJ7!\\xc4MJ7)8\\xcc<\\x0b\\x87\\x11\\xed\\xf3b\\x0f\\xe7!\\xef`\\x80\\xc6\\xf6\\xf5F\\xe4~\\x10\\xc2\\xe5\\xf95\\x05\\xd8\\xfa\\x8e\\x05,\\x00\\xe9\\xb2l\\x98\\x0e\\x15\"s\\x83\\x06\\xaa9R0C<\\x91\\xc7\\xac4@\\xbf\\x00\\x00\\\\0\\xee\\xc8\\xed\\x91\\xf3\\xde\\xfa^.\\x8c\\xf5\\x00\\xa240<\\xa9\\x1eZ\\xc3n\\x83\\x81r\\xa1\\xc2\\xdb[f-0[\\x82\\xec\\xe7\\x11K\\xa1H\\xd4@\\xb7!\\x03Y\\xdb\\x8bQf\\xb5\\xa3zO&4\\xb1\\x00\\xc0\\xc2\\xf2\\xf6\\x16d\\xf3\\x9c\\xfc\\x01\\x80\\x8ar\\xdf\\xaa\\nF\\r\\xedR\\xff\\x17\\xdb\\xdb\\x03\\xf3\\xf9\\xc0j\\x8dH_\\x99\\x82\\xbc\\xbdy\\xc8\\xdbe\\x03 \\x85fcZ\\xc8&P\\x02\\xc9\\x08\\x16/\\x17J\\xb6\\x17x\\xc3\\x0e\\xa24\\xc8\\xb5\\x11\\x102\\x80O\\xab\\x19\\x19\\xf1\\x00\\xc0\\xa2|G\\x1eL\\xa1\\x98\\x1a\\x07\\xe0:d\\x82\\xb9\\x11\\xdeI\\x87\\xe7\\x0c\\x08\\x90\\xefy`\\x88UH\\x7fZ\\xeb\\x1d\\x02\\x9d(@\\xde>\\x9f(\\xb0&\\xe4\\xbd\\xef\\xcb5\\xb5\\xc6\\x80\\xb4\\xb8\\xd0\\x99\\xd8\\x81r\\x85\\x16\\n\\xdfB\\xe6\\xe2\\x8fLC\\x9c\\x1a\\x99\\x81bu\\x16\\x8aw\\xe8!\\x13\\x03\\xf0Xa:h\\xe3]\\x8b\\xcb\\xe5\\x9b\\x7ff$\\x9c_T\\xb7\\t\\xd8?m\\x81\\xd1\\x05 ^\\x8f\\x8cu|\\xa6\\xc2\\x87/#W\\xbcN\\xe6!w\\xaf\\xf7V\\x1d\\xd4\\x83$V\\xc3\\xf0\\xb4o\\x8a\\xbd\\xa6\\x109\\xbbB\\x93\\xec\\xcb\\xe9\\xeax\\xec\\xe4P\\xc89\\xde\\xc1\\x1e+,\\xd6\\xe0\\xf46d\\xeb\\x0cH\\x89\\x03\\xe0q\\xa0\\xf8\\x1do,\\x9ckW\\x9eoVW\\t\\xfd\\xb3\\x03[S\\xe7\\x0e\\xb4\\xb9\\x8b\\xd2\\xa0\\xbf\\xdf\\xdb^\\x8e\\x9d[\\x91}\\x8c\\xc7\\t<,\\\\\\x01xYI\\x17*\\xbd\\x02\\n\\x16\\xae:\\xfe\\xf2)\\x8f\\xf1\\xcd]7V\\xc1r\\x96\\xfbq^\\x01\\xcb\\xea\\xb6.\\xd3;\\x8b\\xae\\t\\xe5\\x8b/\\x80\\x8cP\\xf1ba\\xda\\xees\\x1a\\x8b\\x95\\xd0?=\\xb8\\xc5\\xa9\\x8a\\xf5\\x06\\xe8d@\\xe7\\xc2\\xee\\x108\\xcb\\xe52\\x99W@=v\\xd8l\\xdc\\x1e\\x00\\xdb\\x07[\\x90\\xcb\\xe7a\\xe5C\\x94\\x16\\x19\\x1bU`\\xe0\\x8b\\x85;fA^GP\\xea2\\x03\\xf4\\x8b\\xb8W\\x15\\xdd\\xf1pz\\x82\\x918O\\t\\xfd+z(\\xc5\\x00X\\x0br\\xd6\\xe9QT\\xc3\\xe58\\x17L\\xbfO\\x86bq\\n^;\\xd8\\xf3\\x85\\xe5:f\\x82\\x85\\x87\\x06\\xb1\\x95V_\\x800\\x03\\xf9t~A4\\x00\\xa0Z\\xa6\\xf1\\xf6\\xdc\\xd8r\\x14\\xbc^\\xc2#h\\x9a\\x85\\xad\\xb2\\n\\xf6\\xc6\\xae\\xff\\x9b\\xdeHG\\xde\\x89\\x11\\x10&\\x01\\x8cP\\x87\\xfd\\xc5|\\xa2\\x95\\xfa\\x96L\\xac\\xc8\\r\\x88s\\xb2s]\\xa4XFRKzq\\xbb\\x06\\xdbao\\xefr\\x843\\x8b2\\x88\\xb9_\\xcf\\xaf\\x9bT\\x7fb \\xaa\\xa8n\\x13\\x0e\\x01t\\xd8w\\xd9\\xd4\\xd5\\xce\\xb2D\\x95\\xd7\\x89/\\x96\\x11\\xfd\\x1e~ni\\xb7Q\\xdf\\xb9\\x99\\x84lu>\\xa9\\xbe\\xed\\xfcn\\xe2\\xecm\\xb2\\x84s\\x9b;\\x89\\xf9\\xc5\\xae\\xc9\\x0e\\xc4jHFQU\\xdf\\xce\\xf3\\xfe\\x16f7x\\xd7k2\\xb1jbx\\xab\\x94T\\xf9\\xf9\\xaank!I\\x8d\\xefX\\x9e\\xc4!\\xe4\\xa67Z\\xbb-q\\x82\\x94\\xa86\\xe5\\x93\\n\\x7f\\xe7\\xbdXFr7\\xa8\\xba\\x16\\x90/\\xd1\\x12uGz\\xa6X\\x9d\\xcf\\x89/lF\\xa4xU\\xbc\\xac\\xea_h\\x06B\\xb7\\x8c\\x14\\xcc\\xb2^\\x041\\xe8\\xb3\\x8d\\xde\\x85\\xd6\\x1d7\\xa3t\\x81\\x8ed\\x15\\x99I\\xb5\\xb3\\xdbM\\xd8`\\'U\\xfb\\xf3I\\xe6Z\\xdfM\\x1b\\xab#\\x86u\\xca\\xe0\\x89\\x17q\\x93\\xb2\\xcd\\x8a\\x9e\\xb3\\xb2\\x03Y\\xef\\xd7ZA2\\x13\\xbbf\\x85eK\\xf4$\\xeb\\xddBR\\xbc\\xa7\\x98\\x14n\\xcf$\\xa9K\\x14D\\xd6\\xdbzJ^mn\\'\\xa5\\xcf\\xf5\\xcc\\xbf%\\x9d\\xa3!\\xa9\\xcfd\\x92\\xec\\x1d\\xf9$\\xff\\xdd\\\\\\x92\\xfdz&\\xd1\\xafV\\x11Y\\xb7\\x05\\xf6\\xd2E\\x19\\xa4\\xac\\x9bp:\\xf7\\xe8{\\xee\\xda\\xc3\\xc8\\x88r\\x99\\x8e\\xe8_\\xc8\"\\xd9;\\xf2IaQ!)\\xfc0\\x9f\\xe4\\xbe\\x91I\\x0ck\\xd5]u\\x89\\xa5D\\xf3\\x06\\x97\\xdcj}`\\xeb&\\x82\\x00A\\x8c\\x8ah7g\\x91\\xdc\\x0f\\x8bI\\x99\\xc9L\\xcc\\xe5fRf,&\\xf9oe\\x12C\\x8f\\xef\\xc0\\x10\\xe5\\xfa|R\\xe5&\\xc4Y\\x9eE4\\x1d\\x02\\x16\\xa7#\\xf9Va\\x0b\\xd8\\xc8\\x13\\xafn\\x0b\\x88\\xb1 \\x90\\x0bg\\x9d\\xa4x}G\\xf6\\x87^\\x16\\x1a\\x0f\\x81x\\x11\\xe2$\\xe6\\xb7t]\\xa9n:\\x16\\xe4J\\xa5D*ez\\x04\\xabJ\\xef7\\x90B\\xab\\x9bT\\xbc\\x18L\\xf1\"\\x84Tv\\x04\\xa4\\xfa\\x82\\x1fo\\r\\x9d\\xe0\\x88\\xbb2\\x97\\xe8\\xe2\\xfa\\tk\\xe9\\xad\\xd72\\x80d\\x84U\\x9fpOF\\xa8\\xda\\xd0{\\x0f\\xc7n\\xca&\\xfa%}\\x04\\xa8\\xf6\\x1af\\xa3\"zNI!\\xfdPg&\\xb9\\xebU\\xbc\\x12 f\\xde\\x92\\x00\\xd1i\\xca$\\xea\\x00\\x8fJB\\xc5\\x88\\x13\\xaf\\xea\\xed\\x9a\\xcem\\xa1xgC\\xf5GyWt\\xb9tma\\xcfa\\xc7\\x90\\x88\\x97\\x17\\xf7E3\\xc9\\xdf\\xa6\\'\\xbae\\xaa\\xce\\x08{&JJd\\xf1*\\xa2]\\x9fA\\xb2K\\xba\\x86DA\\x17\\xafAgZ\\xedF]\\x05)|9\\x95h\\x16)\\x884\\x8a!\\x0c#%\\xb2x5\\xd1m\\xce&\\xc5\\x95\\x01\\x1c\\xaa\\xb7\\xdaI\\xc5\\'\\xd9$c\\xbd\\x96\\xa8\\x17x\\xcf\\x051C\\x98\\x18\\x05Q.\\xd1\\x12\\xfd\\x8b\\xb9\\xa4\\xd4\\xea\\xbf\\xc7\\xee\\xac,#\\x85oe\\x12\\xfdZ\\rQ\\xc5+\\x88,\\x86\\xe9\\xba\\x16sTD\\xb3FO2w\\xf8\\x1fZ\\xf2\\xc5}\\xa6\\x8c\\xe4o3\\x90\\xd4\\x15*\\xa2\\x8c\\x95\\x12\\x86\\x01\\x81\\x98!\\xd2\\x18\\x05Q\\xde\\xaf%\\xa9\\xcfd\\x91\\xfc\\xfdU\\xc4\\xd9\\xc7ut\\xee\\xcf \\xeax\\x1d\\xc9\\xef#\\xbf\\x9aP\\x10\\x11B\\x08\\x17\\xdf\\x18\\x85\\xd2+gs\\x90\\xac\\xda\\x82\\xf2F@\\xf5r\\x05*\\xb6\\xf1\\xc8\\xa6A\\t\\x19,\\x8b!\\x8f\\x0f\\x0c4#t\\xb6\\x9124\\xb00m\\xcfCy#\\x00\\xa9\\x16\\x86\\'\\xa9p\\t\\x05\\xa1\\x0b\\x17@\\xc5\\x8b2\\x18N\\xe6\\xe1\\xb5\\x0f\\xbcA\\x97\\x8au\\x19H\\xebo+.\\n%\\xc0P\\xf1\\xa2\\xf4\\x8bcw\\x0e\\xf2\\x8e\\xf4\\x12\\xd4\\xe4*\\xc7\\xd6\\rY\\xde\\x15\\x071Zd\\xfe>\\x10\\xb9\\xb2(\\x14\\xeeP\\x9f\\x17\\xa5o\\x1c%H[\\x9c\\x82\"\\x87\\x0c\\xaa\\xb5iH[\\x91\\x0cE\\x0c\\xe0<iF\\xc9\\xbby\\xde\\xbd\\r\\xc52h\\xb7\\x9bQ\\xbay$\\xac\\x96\\xa3\\x08\\x89\\x11\\x9f\\x12\\x872\\x08\\\\N \\x8a\\x01<\\x0eXv\\xe6\\xc0\\xb23\\xa7\\xe7\\xdf\\xc52h^)A!\\x15.J\\x08\\xa0=/J\\xff4\\xda`|/\\x07\\x05{M\\xb0T\\xda`o\\x04\\x18\\x99\\x12IK\\xb5H}:\\x1d\\xfa\\xfbG\\xc6\"_\\x8a\\xf0\\xa0\\xe2E\\xa1P\\x04\\tu\\xd8S(\\x14AB\\xc5\\x8bB\\xa1\\x08\\x12*^\\x14\\nE\\x90P\\xf1\\xa2P(\\x82\\x84\\x8a\\x17\\x85B\\x11$T\\xbc(\\x14\\x8a \\xa1\\xe2E\\xa1P\\x04\\t\\x15/\\n\\x85\"H\\xa8xQ\\x04\\x08\\x8b\\xf2?\\xa5 aJ4\\xe4\\x8b\\xd3P0R6\\x94\\xa0\\xf0\\x82F\\xd8S\\x84Gm\\x1e\\x96\\xcfM\\x87\\xc9\\xa7Y\\xd2u\\xc5\\xb0\\x17\\xe9hV\\x8bQ\\xc6\\xf0_\\x98\\xed)AZt\\n\\x8a8\\xee\\x9f\\xc7H\\xa5\\x90J\\xe5\\x90\\xcfUB\\xb9 \\t\\x9aeZ\\xacZ\\xa1\\x82\\x8c\\xde\\xd9\\xdcqXP\\xb2\\xbb\\x18\\xa6\\x83\\xe5\\xa8\\xb0\\xda`\\xab\\xb5{\\xf7/\\x8c\\x92B\\x1e#\\x87L\\xa9D\\xf2\\xe2d$/\\xd3B\\xbbD1\\xf4\\xa2\\xc1DC\\x1a\\x05\\xc0\\'^\\xd1\\xd2\\xc1llG\\x11,\\xa1\\xca?\\xcd\\x99\\xd6b\\x92\\x1a\\xc5q\\xa3\\x83~6@\\xd0\\xbd\\x98O\\xcc\\xbdm\\x9f\\x15\\n\\x9cf\\x92\\xffz\\x16\\xc9\\xda\\x96Er\\xf7\\x0fl\\xc3\\x8a\\xa0\\xd0PE\\n\\x9f\\xd3\\x10\\x05\\x8f\\xf6\\x96\\xc6k\\x88a{\\x19\\xb1\\x07l\\xa3\\x13n\\xd8\\x8dY$u\\xa5\\x86h7\\xe7\\x0e\\x9f\\xebJ\\x19R\\x86\\xff\\xb0\\xb1{\\xcf+>\\x15Y\\xcfk\\xd0w\\x1e\\x03\\x16l\\xa3\\x0b.\\xbb\\x1dU\\'+P~\\xa8\\x1c=\\xf6g\\x8dQ\\xc3\\xf0F\\x01\\xb27(C;\\xc4\\xa8\\xc9\\xc3r\\xa5w\\xd8\\xa3|\\xc1\\x8c\\xaa7\\xd4\\xa1\\xb4\\xc6Km\\t\\xd2W\\xa7!\\xef\\xb8\\xaf;#f\\xa0X\\xa4\\x85F\\xad\\x84b\\xba\\x1c\\xb2(\\xc6\\xdb\\xb6u6T\\x1d\\xaf@\\xf9Q\\x0bl\\xf5]\\xbe&\\xd9\\xfabX?\\x1c\\xdc\\xe6\\xbe\\x14\\n/B\\xad\\x9e~\\xe9\\xd6\\xf3bV\\xe4\\xde\\xbew_\\xbf\\xc7:IEI6\\xd1/\\x91u\\xdb\\xa6JJT\\xcf\\x94\\x0eyO\\xa1\\x07\\xb6\\\\\\xa2\\xf1\\xedz\\xa3|\\xc1\\x1cBC|\\xb4V\\x91\\xece\\xd2\\xae}\\x13Wd\\xf4\\xbe[O\\x8fc\\x9c\\xa4\\xa2$\\x97\\x18V*\\x08#\\x96\\x12]Q\\x80\\xb7\\xc8\\xa1P\\xfc0\\xb2g\\x1b\\xc5R\\xa8\\xd6d \\xff\\x90\\x15\\xe6\\xf7\\xf5PI\\x01\\xc0\\x05\\xcb\\xdb)\\xd0\\xfe\\xde\\x04\\x1e;\\xb6\\x8fh\\\\\\xbb\\xb3\\x90u\\xc8\\xdb\\x1a\\xb2\\x95\\xb90\\x19\\xb3\\xa1[\\xe0\\xa7\\x0f%\\x96B\\xb5\\xc6\\x80\\\\c\\x15\\xaa\\xf6\\x1b\\x91\\xb5\\x86\\xf6\\xb9(C\\xcb\\xc8\\x16\\xafN\\xa4Pm\\xc8\\x87\\xf9@6\\xb42\\x00`ay;\\r\\xfa\\x8f\\x1c\\xa16l\\x18\\xc0\\xc2\\xb4\\xdb\\x08\\x97\\x07\\x00\\xa3F\\xfa[\\x06(yM\\xe30P,SCI\\'D(C\\xcc(\\x11//\\xcc\\xa2\\x0c\\x14\\x16e@\\xc5\\x00\\xf08P\\xf2R\\x06J\\xea\\xfd\\x1f\\xc7\\x9e5\\xa1\\xe8\\xed\\xadH\\x7fl9\\x92\\x94\\xb3 \\x9f\"\\x81$B\\x02\\xc9\\x149\\x12\\xd4\\xab\\x90\\xf6\\xfb\\x1c\\x94\\x9c\\xe8\\xbf\\x1fgzZ\\x0e\\x91H\\xe4\\xfd(\\xba\\xa6\\xf9\\xado&w\\xfd\\xbe\\xdb\\'\\xe9\\x15K\\xd0m\\xf2b\\x83\\xf5\\x8c\\xcf\\x98\\xd8dh\\xe6p8dP\\xb0p\\x1c)B\\xce\\xf3iX\\xa5N\\x80|J4$\\x11\"H\\xa2\\xe5\\x98\\xa5Z\\x8e\\x94\\xa7_C\\xc1A\\x1b\\xfcEn\\x95??\\xcb\\xdbV\\x92\\xe5\\xc8\\xab\\xe5xj\\x8f\\x03\\x96]9\\xd8\\x92\\xba\\x1cIJ9\\xa2\\xc7K \\x19\\x1f\\r\\xb9\"\\t\\xcb\\x1fK\\xc7k\\x1f\\x95\\xc3\\xc19d\\xcc\\x8a\\xd7\\xd4\\x12\\x88D\"H\\xb4\\x05]\\xbd\\xf8^\\xce!\\x8a\\x90 Z\\x9e\\x80$m\\x1a\\xb6\\xbcm\\x84u\\xc0]\\xfe\\xc0\\xb4]\\x0f\\\\V\\x18\\xdf\\xde\\x824m2\\x12\\xa6GC\"\\x11A2>\\x1a\\xb3\\x16&c\\xd5\\x93[Qp\\x80g}CI\\xa8\\xc7\\xad~\\x19\\x8c\\xcf\\xabW\\xdc\\xc4\\xfc\\xa2\\xaasWm\\xd5\\xb6\\xaa\\xbeKV\\x16\\x92\\xcc\\xd5Jn\\xdb\\xab\\x8b\\xa5D\\xbd\\xb9\\x90T\\xf7\\xb1\\xa7{\\xd9f\\x19\\xaf\\x19R\\xd5\\xcb\\x15A\\xb7\\xc9K\\x15\\xc9Z\\xe4\\xdb\\xf1zN\\x061\\x07\\xd1\\x17\\xe8\\xae,$\\x19\\xcb\\x14\\xdd\\xfc\\x8f}}\\x18\"[\\x96A\\x8a\\xad}\\x1bn~N\\xe1-\\xcbhH\\xeeE\\xff\\xe7\\xb6\\xef\\xcf\"\\xbax\\xc6o\\x9b1qZ\\x92YRM\\xfam2BH\\xf7]\\xc6\\x99\\x95\\xf9\\xc4I\\x08\\xb1\\x9b\\xb8\\x9d\\x032\\r\\xc9(\\xe1\\xb7\\x9b{ \\xdb\\xce\\x8b\\x93\\x98\\xdfJ%\\xaa\\x18\\x0e\\xf5-1\\x90\\xc2J\\xff-2\\xd4\\x0c\\xff8\\xaf\\x80\\xc3@\\xfd\\xfcV\\xe8>HA\\x91\\x83\\x85\\xe5\\xc3\\x02\\x94\\xbf\\x98\\r\\xf5--a\\xdb\\x99\\x86\\xe5\\x1b\\x8b`\\xebx\\xedH\\x15P/\\xd3@\\xb3X\\t\\xb9L\\x8eh\\xb1\\x1b\\xceZ+,\\x87\\x8c(>`\\x85\\xcb\\xe3B\\xf9;iX\\xee\\x02\\xccE\\xa9\\xb7\\xcd\\x88&=[\\x82\\xb2\\xb5n\\xef\\x7f\\x1c%\\xd8\\xf2\\xdb<X<\\x80b].\\xf27)o\\xb3R\\xa2\\xb8\\xfdw\\x81\\xb6\\xc9\\x8b\\x1c\\n\\x05\\x80c\\x00jL0\\x9d\\x04\\xd4\\x0b\\xb8\\xb6%wl;\\x9f\\xc0\\xaa\\'\\x0b`\\xf5\\xc5\\xeb12\\x154\\xab\\xb5\\xd0\\xa8\\x14\\x90GI\\xe0v\\xd9`\\xab4\\xa3d\\xb7\\x11\\xd6z\\x16\\x8e\\x839HYjA\\xd6\\xdeRd\\xde?\\x981)\\x0b\\xcb\\x9b)\\xd0\\xbed\\x84\\xc3\\x03\\x00\\x0c\\x14Kt\\xd0j\\x93\\xa1\\x8a\\x93#\\x1aN8k\\xad(?`D\\xf1A+\\\\5F\\xbc\\xf6X2\\xca\\xb7\\x95\\xa0\\xf8E5\\xc7\\xd9S\\x16\\xd6\\x9diH\\xf3]\\x1b&N\\r\\xdd\\x9aUHV)\\xa1\\x88a\\x00\\xd6\\x05\\xdbI3L%\\xc5(9\\xe6\\x00\\x1c&\\xe4<\\xb6\\x1c\\xf6\\x0f\\xcbP\\xb8\\xce\\xff\\xe6%\\x01o;\\xd6\\x8a\\x82\\x8d\\xab\\x90\\xbe\\xd3\\xd7\\xabbdP\\xadL\\x81v\\xa9\\n\\t\\xb1\\xd1`X\\'lg\\xcaa\\xda[\\n\\xe3q\\x07\\x1c\\x87\\xf3\\x90\\xb6\\xb4\\x02\\x15E%\\xc8^9\\x8c\\xf6,\\x08\\xb5z\\xfa%\\xe0=/B\\x08q\\x93\\xd2M\\xbe\\x9e\\x90XI2\\x8f\\xf6R\\xa2<\\x93\\xa8\\x18\\x10\\xc4j\\x88aGY\\xbf\\xbd\\x17gy6\\xd1\\xc6u\\xf4vd$\\xd5\\xdf\\xcc\\xdb\\x00g\\x1b\\x83e\\x93\\xfdC\\x1d\\x91v\\xc4m\\xdd\\x9fI\\xca\\x02\\x1c7e\\xdfc J\\xdf\\xf7E\\x94\\x92\\xe8\\xde\\xe8\\xc7vw5)}]K\\x14\\x1d\\xe5\\xe3\\xf4\\xa4\\xb4\\x17{\\xb8\\xf6\\xbc\\xaa\\xdf\\xd7\\x11\\x99\\xb8\\xabW\\x95\\xb5\\xbf\\xef^\\x95\\xf3h>\\xd1\\'2\\x9dm\\xa6}\\xb7\\xbf\\xdeQW\\xcf\\x0bs\\x94D\\x19\\xe5=F\\xf3ri?\\xd7\\xc5I*\\xb6\\xeb\\xba\\xbe[\\x8c\\x96\\xe4\\xdb\\xfa9\\x05\\tF\\xdb\\xd9I\\xe9&eg\\x0fN\\xb6\\xa4\\xbf^\\x9a\\x9bT\\x15e\\x10uG\\xefL\\xaa&YG\\x87O\\x0fl\\x94\\x8a\\x17!\\xce\"]\\xe7\\xd0Q\\xfbno\\xb5:I\\xd9\\x0e\\xee\\x01\\x90\\x9d\\xc2\\x02\\x10fY.\\xe9wP0\\xe0P\\x89 \\xd9\\xd4ZE\\xb2Wt\\x85J0q\\x1a\\x92\\xf1n\\x19\\xa9n\\xe0aZ_\\xd8\\x0bIjl\\xc7\\xc3\\xa7\"\\x19\\xfb\\xb9\\x85T\\xd8?I%\\xca\\x18\\x15I\\xdda&\\xbd\\x1d\\xc1I\\xbcl\\xf9D\\xdb\\xf1\\xe0\\xcdI%\\xc56\\x0e\\'v\\x9aI\\xe6\\xfd\\xbe\\xb6\\x90jH\\xee\\x99\\xbe\\nv\\x13\\xaf\\x0e\\xb1\\xdb^\\xc5a\\xb8IH\\xd5\\x1b\\xeaN\\xf1P>\\xd7\\xcf\\xf5\\x0fB\\xdb9KR\\x89\\xc2\\'\\xe6\\xb2\\xd5\\xb9\\xa4\\x8a\\x83\\xc1\\xee\\xcal\\xa2\\x95\\xf9\\xee\\x8dEY\\xa4b\\x98\\xe8\\xd7\\xa8\\x15/b\\xc9$*q c\\xad\\xec$\\x7f\\xa5\\xeff\\x8e\\xd2\\x91\\xc2\\xfe\\xee\\xb3!\\x8b\\xf3\\xe2a\\x93\\xd3L\\xb2W\\xde\\xe2S\\x89R\\x10\\xf5j=\\xc9\\xdc^L\\xca\\xacNN\\x0ffO\\xdc\\xc4\\xfc\\x82\\xb23\\xbeN\\xb3\\x9d\\x8f\\x9f\\xc7M\\x9c\\xce\\xc1\\xf8\\xbc\\xdc\\xa4\\xec\\x19Eg\\xef:\\xe3\\x10\\x0f\\xeb\\xcf\\xe4\\x12\\x8d\\xd4\\xdb\\x06\\x8a\\xcde}|\\xef\\x9e\\xe2%]\\xe9\\xe7\\x85\\xd5\\xc3\\xb42b\\xe8\\xe8\\x15\\xc7\\xf7\\xe5g\\x0cB\\xdb\\xb5Vt\\xf97\\xe3RI1\\x8f\\x1e\\xb6\\xbd(\\xd5\\xdb\\x83\\x15K\\x89\\xee\\xc3\\xe1\\x11\\xd37\\xaaf\\x1b{ \\x95#\\xda\\xe7\\xe7r6\\xba\\x03P\\xa1\\x0c\\xc9K}\\x91\\xfb\\xac\\rU5\\x01\\xa8r\\xd0\\xf0\\xb0I\\xaaF\\x86\\xb1\\x02\\xe6\\xf73\\xbab\\xbc\\x1am(\\xdf[\\x80\\xd7\\x9eM\\xc1re4\\xa2\\xe5IX\\x9e\\xba\\x05\\xaf}`\\x84\\x85\\xcb\\xb4\\x1ckB\\xc1GV\\xef\\xcf\\x0b\\x0c\\xc8\\xe2\\xb59-\\x03\\xa9t\\x10\\xbe\\xaeF#\\nv\\xd9\\x00\\x00\\xd2\\xd5\\x19\\xd8\\xb2\\x84G]s\\xf4\\xc8\\xda\\xe0\\xb5\\xd5\\xb6\\xab\\x00F\\x7f\\xb3\\x83b\\x19R6\\xeb\\xc1\\xf9\\xdb1\\xc9\\xd0\\xae\\xf0\\xf9\\x8ej,\\xa8\\xe8-b\\'\\x18mw\\xa4\\x10\\x05\\xc7Y\\x00\\x0c\\xd4OgA\\x17\\xc3\\xbdF\\xd9\\xda\\xadHOd\\x00\\x8f\\x0b\\xc6\\x8f\\n1\\x1c\\x82\\x8cF\\xafx\\x05\\x01y\\x8c\\xdc\\xf7\\x93\\x0b,\\xc7\\x85\\xe4\\xc1\\x86\\x9fMR\\xa86d\\xa3\\xb8\\xd2\\x0e\\xbb\\xa5\\x14\\xf9\\xdb\\x0c\\xd0\\xdd\\xaf\\x80\\xd4\\'\\xf2\\xac\\xc3\\x02\\xd3\\xce\\x1cl\\xdd\\xb8\\nI\\xd3\\xe5Hx8\\x1d9{\\xfb\\x99J/7\\xc1\\xe4\\x0bEQ=\\x96r\\xdb\\xa4HP9jBy=\\x000\\xd0\\xacI\\xe9gIYo0P\\xebtP\\x88\\x01\\xb8L0\\x96\\xfb+\\x9e\\x0c\\xcdR>B\\xcb@\\xa9\\xf4-h\\xf7\\xd8a\\xefM\\t\\x82\\xd0v\\xd6\\x83&\\xd8<\\x00\\x18\\x15R\\xd6\\xf0\\xdc\\xe5\\\\\\xac\\x84N\\xa7\\x02\\x03\\x80-7\\xc14\\x0c\"\\xbcG\\xafx\\xb9\\xecpz\\xbc?FGI\\x02Sg\\xb7\\x1b\\x8cm\\rL\\x95\\x83f@61\\x90%j\\xa1\\x7f9\\x17\\xc5\\xe5\\xd5p\\xd6U\\xc3\\xbc\\'\\x1f\\xd9\\xcf\\xa5B\\x93(\\xf3=t.X\\x0f\\xe4a\\xcb?% \\xe9\\xb1<Xz\\x11F\\xc7I\\x0b\\xec\\x1e\\x00b\\x19\\x92\\x16\\xa9\\x06\\xfdU\\xf8\\xe08i\\xf5\\x9d[\\x89\\xa4\\x85\\x03\\x88\\xfe_\\x90\\xe4\\x8b\\x07t\\xa1\\xea\\xa4\\xad\\xff\\xb22\\x05\\x14Q\\xfc\\xaa\\x8f\\x96F\\xfb~b\\xc16\\xdc\\xfe\\xf7\\xc0\\xb7\\x1d\\x0b\\xab\\xd5\\xd7\\x93\\x93%A\\x15\\xc7\\xbf\\x06eb\\x82\\xf7E\\xc6ZQu6\\x00&\\r\\x92Q\\x18*\\xe1\\xc5e\\xb5\\xc2\\xda1u>\\xb7\\x9f\\xb7\\x90\\xa3\\x1cE\\x1f\\x14\\xa3\\xf4\\x90\\x19\\x16\\xab\\rv\\x87\\x03\\xaePG\\xed\\r\\xb5MR\\x05\\xd4\\xab\\xf5P\\xaf\\xd6#\\x03\\xde\\x00\\xd9\\xc2\\x0f\\xf3\\x90\\xf3v\\t\\xac.\\x16\\xd6]\\xe9\\xd0\\xb8X\\x98\\x8d\\x19=\\xa2\\xf3\\x9d\\xf5N_\\xafL\\x0e\\x99\\xbc\\xf7\\xaa\\x83E\\xe7\\xb9=\\x16lU\\x89\\xb0u\\xc05\\xb1p\\xd5\\xf9\\xe9fD1\\x83Z\\xe8\\xdf\\xdb\\xa5\\x0b|\\xdb\\xb9`\\xef\\x08\\xc8\\xae\\xc9\\xc3\\xf2\\x88\\xbcA\\xd4e\\x87\\xa3.\\x106\\r\\x8eQ*^,\\xcc\\x07\\xcd\\xde\\x9bC\\xac\\x80J\\xd5\\xdb\\xa0\\x82\\x85\\xf5\\x03=R\\x9e/\\x1aDDt\\xa0\\x19\\x1e61s4\\xd0o\\xd3 mc\\t\\xd2\\xd7\\xa4\\xa1\\xe08\\x0b\\xd7\\x81\\xad\\xd8\\xf2^\\x1aJ7\\x0f\\xa38\\xa0\\x00\\xc1z\\xfc\\xbd\\x19\\x02\\xd4s\\x17\\x12\\x9eP\\x1b0Z\\x87\\x8d.#\\n\\xf7\\xfa\\x1c\\rqZ\\xacJ\\xec\\xa5\\xc8\\xeet\\xacz\\xd2\\'\\x1225\\xf4o\\x14\\xa2\\xac\\xb2\\x1a\\xce\\x067\\x88w\\x96\\xf6\\xb6\\x8f\\xf3}mPS\\xed\\x0c7\\x9b\\x988\\x1d\\xf2?\\xda\\n\\xb5wF\\x00\\xa6\\xdd\\xc5=\\x1c\\xb9\\xd11\\xd1\\xbes\\xdb\\xe1\\xb0\\x07\\xc9\\x88>\\xe8<\\xb7X\\x85\\xac\\xca\\xde\\xdb\\x86\\xeb\\xa7:\\x04)\\x8b\\x02\\xdfvR\\xc8c|wB\\x9c\\x01e\\xad\\x83i\\x13\\'\\xf2W\\x07\\xc2\\xa6\\xc11\\n\\xc5\\x8b\\x85\\xe5\\xad,\\x948\\x00\\x80\\x81\\xea\\xb7i\\xb7;C=\\x16do+\\xf0:7e:\\xe4\\x97\\x9b\\x91\\xffB*4\\x0b\\x14\\x90F\\x85h\\x05\\xf2p\\xb4\\t\\x00\\xe2\\xb5\\xd0\\xc4{\\x7fdm6\\xaf}>d\\x0bU\\x90\\x8b\\x01x\\x1c\\xa88\\xd6\\xffZ\\xcd@\\xd3un+*,\\xc3\\xa6\\xeb\\xcc\\x99\\xc0\\xb7\\x1d\\x03\\xe5B\\xdf$\\x81\\xa3\\x02\\x96\\x9a\\x00T\\x19bF\\x9dx\\xb1\\x87\\xb7B\\xff\\xa6\\xc5;d\\x8c\\xd5a\\xeb\\xe6^\\x9c\\xa1\\xb5&\\x94\\x9f\\xf4\\xfe\\xa8X\\xb7\\x05\\xfa\\xb8!4\\xb0/\\x86\\xa3M\\x00 f a\\xfa\\x10\\xcfE\\x1ah|\\xa3H\\xcb\\'\\x85(\\x1fJ_a\\xe7\\xb9Y\\x98v\\x16\\x0f\\x8b\\xa9}^\\x04\\xa1\\xed\\x94+\\xb4\\xde\\x19T\\xd6\\x82\\xe2]\\xd6\\xc1W\\x18bF\\x95x\\xb1\\xc7r\\x90\\xb26\\x07\\x16\\x16\\x80X\\x06\\xdd\\xeb9\\xbd\\xc7\\xba\\xb8\\x9c\\xde\\x99\\x1e0P(\\xb8\\xfapXX+9\\xae\\xc0\\xef>\\x03\\xc8\\xd5w\\x10D\\x9b\\\\\\'\\xad\\x03\\xcfmVoA\\xc5I\\xef\\x19\\x18\\x85\\xc2\\xfbpt\\xc0h\\xa0_\\xe7[\\xa3y\\xa2\\x00[\\xdf\\xe3\\xf3\\xc0\\xb0p\\rf\\x16\\x82\\xd1B\\xbf\\xde{n\\xd7\\x81\\xd7\\xb0u\\xb7\\xc0z_\\xc1h\\xbbEz\\xe8\\xefg\\x00\\xb0(\\xdf\\xbe\\x05\\x055\\x01\\xb03\\x84\\x8c\\x12\\xf1r\\xc1\\xf2\\xc1\\x13H^\\xb1\\x05\\xc6\\x8e\\xe1\\xe2\\xe6\\x02\\x14\\xac\\xefC\\x04b\\xe4\\xde.;X\\xd8\\xcep\\x13$\\xf6x\\x0e2>\\xe0x\\x83I\\xe5\\x90\\xf9\\x1er\\xfb\\x89*n\\xbd\\x82`\\xd9\\xd4h\\xc2\\xd65IH\\xd6\\xe5\\xc0\\xc45\\xb5L\\'.\\x18_\\xc9B\\x89\\x0b\\x00\\x18$\\xaf\\xd6\\xde\\x12O\\xe5]\\x04\\x9f\\x1a\\xeb-kz)\\r[\\xf6q\\xeb\\x039v\\xa5#yn2\\xd2\\xde\\xb1\\x0cXX\\xd5\\xcfg!5\\x0e\\x80\\xc7\\x86\\x82\\'S\\xf0\\xdaa\\xae5\\xb9`\\xfac:r\\x8e\\x84rZ9\\x18m\\xa7\\x80a\\x9b\\xc1\\x9b{\\xcdaD\\xfa\\xda\\x8e\\xe7\\x81\\x03\\x8d\\x16\\xe4=\\xbb\\xb53\\xf6lX\\x10\\xb4\\xd8\\xfd@\\x11\\x924\\xd0\\xd5${\\t\\xd3\\xb9\\xbe-\\xdb\\xd2\\xff\\xd2\\x12we>I\\x9d\\xd3}\\x9d\\x9b\\x82\\x18L~\\xea_\\xe6+\\xcf\\xa8H\\x86\\xa9\\x97\\xe5\\x16u\\xce[\\xd6\\xa5\\x05\\xc7&wIj\\xe7\\xc2eD)\\x89\\xf6\\xb9\\\\RZ\\xe9\\x7f)\\x90\\xfbb\\x19\\xc9^\\xd7\\xb5\\xc0\\x97Y\\x90A\\xcc}\\xac\\x85\\xb4\\xef\\xd1w-.f\\x14D\\xbb\\xad\\xb4\\xefu\\x93\\xeejR\\xf6\\xba.`\\x0b\\xb3\\x9d\\xc6\\xee\\x0b\\x9b\\x15D\\xf7z)\\xa9\\xeag\\xcd\\xa6\\xdbZJ\\xb2V\\xfb\\x96I\\xc5\\xeaH\\xa1\\xad\\xaf\\x92\\xdd\\x96\\x07%f\\x91\\n\\x9e\\xa9\\x84\\x9c\\xefk\\xbd\\xe7\\xf0s\\xaf\\x04\\xbe\\xed\\xdc\\xc4\\xbcM\\xdd\\xb9\\x10\\x1f\\xb1\\x1a\\x92QTA\\x9c}\\xda\\xef&vS6I]\\xe0]\\xef)]\\x96M\\xaaB\\x99B\\xbd\\x1b\\x82\\n\\x95`/\\x9aQ\\xf0\\x0e\\xfaMS\\xc26\\xba\\xe0\\xb4\\xdb`;Y\\x85\\xf2\\xf2[7\\xe0PA\\xffF\\x01r7\\xa8\\xfc\\xcc\\xc0)`\\xf8c\\x06\\nW\\xbe\\x06\\x8b\\xcb\\x84-+\\x92a\\xfd\\xfdV\\xe8\\xd7j\\xa0\\x8e\\xf3\\x9d\\xdd\\xc3\\xc2q\\xc2\\x84\\xe2\\x0f\\xf3\\x90\\xf7\\x9e\\x11V\\x8f\\x12\\xfa\\xcdJ\\x14\\xbfW\\xc2\\xa1\\xa7\\xa0@\\xda&-\\xb2\\x0f\\x95\\xc0\\xc1Z\\x90\\xa3K\\x86m\\x93\\x01)j\\x05\\x18\\xd6\\x0eky\\t\\nw\\xda\\xa0\\xdd]\\x81\\xec\\xcee-\\xc1\\xb1\\x89Y\\x93\\x87\\x92\\xd7Y\\xa4m+\\x81\\xad\\xd1\\n\\xe3\\x9f\\xd2a\\xfcS:\\x98X\\x154\\xcb\\x92\\xa1\\x8c\\x93C>E\\xe6\\xdbj\\xcc\\x05\\xc7E\\x1b\\xaa\\x8e\\x99`<d\\xed\\x8c-c\\xe6\\xe8\\x90\\xbb+\\x0b\\xea>\\x025e\\xab\\xf3Q\\xfa.\\xb0\\xea\\xe9\\x02X\\x1bm0\\xbe\\xb2\\n\\xb3\\xb6+\\xa1Y\\xe9M\\xeb\"\\x932`\\xeb\\x1d\\xb0YM0\\xee5\\xc1\\xda\\xf1v\\x8f\\xd1 kg.\\xb4<\\x96\\xb1\\xdc\\x8ate.J\\x8b\\x80\\x94\\x8dy\\xb0\\xb8l(yi\\x15J\\xdeRB\\xb3L\\x03\\xb5J\\x01y\\x8c\\x14\\x0c\\xeb\\x82\\xc3nC\\xc5A#L\\xc7l\\xde\\xac\\xb2`\\xa0\\\\\\x91\\x02u\\xec\\xc0\\xcf\\x1d\\x08\\x02\\xdfv\\x0c\\xd4/\\x1bQ\\xec\\xd6\"\\xe5\\xcdr\\xb8jM\\xc8IMB\\xdeKjhW$#I\\xe9\\xab\\xd3\\xe5\\x80\\xddV\\x85\\xf2\\x03F\\x98N\\xfa\\xee\\x1eF\\x01\\xcdZmO\\xd7@(\\t\\xb5z\\xfa%\\x90[\\x9f\\xf1\\\\\\xd5m\\xdf\\x9fE\\xb4q\\xb7$\\x97\\x8b\\x92\\x12i\\x8c\\x940\\xdd\\x92\\x012\\xb1\\x1a\\x92\\xb9\\xc7N\\xdcF\\xbdo\\xf1\\xaa\\xbf\\x9e\\x17!\\x84\\xd8I\\xe9s\\xaa~\\x93\\n*\\x9e\\xb9}Qp\\xb0lr\\x9f)%\\xd9\\x9b\\xf8m{\\x06FF\\xd4\\x1b\\xb8g\\xb9pZ\\xf2\\x89\\xa1G/\\xb8\\xaf\\x8f7\\xa1^a\\x00\\x93\\x11\\xba\\xad\\x85$c\\x05\\x97d~ \\x90\\xa9\\x89~GE\\xaf\\xd9,\\xba\\x18\\x9a\\x9eWg\\xf9\\x00\\xb6\\x9d\\x177\\xa96f\\x11]\\xbc\\xd4\\x7f{\\x00D\\xba \\x95d\\x9b\\x86\\xd16}D`Y%\\xb8|\\x98()\\x91\\xc5*\\x89j\\x99\\x8e\\xa4>\\x93E\\xf2\\xf7T\\x10\\xfb`Rx4T\\x93\\xb2w3\\x89~\\xb5\\x9a(\\xe3\\xa4D\\xca\\x80\\x80a\\x884N\\xe9\\xcd\\xb8\\xb0\\xa3[\\xea\\x98\\xfd|\\xc4\\x8b\\x10\\xef\\r\\x94M\\x0ck\\xd4D\\x19+%\\x0c\\xc3\\x10&FAT+RI\\xe6\\xbb\\xe6\\xbe\\x87\\xb6\\xc1\\xb4\\xa9\\xa1\\x9aT\\xec\\xc9\\'\\xd9/\\xe8\\x89v\\x99\\x8a(\\xe3\\x15D&e\\x08\\xc4\\x0ca\\xa4R\\xa2X\\xa0\"\\x9a5z\\x92\\xf9V!1_\\x1cH\\xc3\\xba\\x89\\xfdP!\\xc9z&\\x95h\\xeeW\\x12Y\\x0cC\\x181\\x08#\\x95\\x11E\\xa2\\x86\\xe86g\\x91|\\x93\\xffL\\xa6|\\xc5\\xab\\x03\\xfb\\xd1b\\x92\\xfdB*\\xd1.Q\\x12E\\x87\\xe0GI\\x89l\\x8e\\x8ah\\xd6\\x1aH\\xd6\\xfb\\\\S\\x01\\r\\xadxy\\tL\\xdb\\xf5\\xa0\\xd5I\\xaa\\xf6\\xe4\\x92\\xccM:\\xa2I\\xf4^\\xeb\\x1eun\\xca$\\xb9\\xc6*?B\\x1e\\x1a\\x86\\xff\\xbe\\x8d\\x14\\n\\x85\\xd2\\x0b\\xa3d\\xb6\\x91B\\xa1\\x8c4\\xa8xQ(\\x14AB\\xc5\\x8bB\\xa1\\x08\\x12*^\\x14\\nE\\x90P\\xf1\\xa2P(\\x82\\x84\\x8a\\x17\\x85B\\x11$T\\xbc(\\x14\\x8a \\xa1\\xe2E\\xa1P\\x04\\t\\x15/\\n\\x85\"H\\xa8xQ(\\x14AB\\xc5\\x8bB\\xa1\\x08\\x12*^\\x14\\nE\\x90P\\xf1\\xa2P(\\x82\\x84\\x8a\\x17\\x85B\\x11$T\\xbc(\\x14\\x8a \\xa1\\xe2E\\xa1P\\x04\\t\\x15/\\n\\x85\"H\\xa8xQ(\\x14AB\\xc5\\x8bB\\xa1\\x08\\x12*^\\x14\\nE\\x90P\\xf1\\xa2P(\\x82\\x84\\x8a\\x17\\x85B\\x11$T\\xbc(\\x14\\x8a \\xa1\\xe2E\\xa1P\\x04\\t\\x15/\\n\\x85\"H\\xa8xQ(\\x14AB\\xc5\\x8bB\\xa1\\x08\\x12*^\\x14\\nE\\x90P\\xf1\\xa2P(\\x82\\x84\\x8a\\x17\\x85B\\x11$T\\xbc(\\x14\\x8a \\xa1\\xe2E\\xa1P\\x04\\t\\x15/\\n\\x85\"H\\xa8xQ(\\x14AB\\xc5\\x8bB\\xa1\\x08\\x12*^\\x14\\nE\\x90\\xfc\\xff\\xc0[\\xb4\\x07\\x1d\\xbaP!\\x00\\x00\\x00\\x00IEND\\xaeB`\\x82'"
      ]
     },
     "execution_count": 9,
     "metadata": {},
     "output_type": "execute_result"
    }
   ],
   "source": [
    "with open(\"local/imgs/udea-datascience.png\", \"rb\") as f:\n",
    "    content = f.read()\n",
    "content"
   ]
  },
  {
   "cell_type": "code",
   "execution_count": 10,
   "metadata": {},
   "outputs": [
    {
     "ename": "TypeError",
     "evalue": "write() argument must be str, not bytes",
     "output_type": "error",
     "traceback": [
      "\u001b[0;31m---------------------------------------------------------------------------\u001b[0m",
      "\u001b[0;31mTypeError\u001b[0m                                 Traceback (most recent call last)",
      "\u001b[0;32m<ipython-input-10-e702a0799465>\u001b[0m in \u001b[0;36m<module>\u001b[0;34m\u001b[0m\n\u001b[1;32m      1\u001b[0m \u001b[0;32mwith\u001b[0m \u001b[0mopen\u001b[0m\u001b[0;34m(\u001b[0m\u001b[0;34m\"temp_file\"\u001b[0m\u001b[0;34m,\u001b[0m \u001b[0;34m\"w\"\u001b[0m\u001b[0;34m)\u001b[0m \u001b[0;32mas\u001b[0m \u001b[0mf\u001b[0m\u001b[0;34m:\u001b[0m\u001b[0;34m\u001b[0m\u001b[0;34m\u001b[0m\u001b[0m\n\u001b[0;32m----> 2\u001b[0;31m     \u001b[0mf\u001b[0m\u001b[0;34m.\u001b[0m\u001b[0mwrite\u001b[0m\u001b[0;34m(\u001b[0m\u001b[0mcontent\u001b[0m\u001b[0;34m)\u001b[0m\u001b[0;34m\u001b[0m\u001b[0;34m\u001b[0m\u001b[0m\n\u001b[0m",
      "\u001b[0;31mTypeError\u001b[0m: write() argument must be str, not bytes"
     ]
    }
   ],
   "source": [
    "with open(\"temp_file\", \"w\") as f:\n",
    "    f.write(content)"
   ]
  },
  {
   "cell_type": "code",
   "execution_count": 11,
   "metadata": {},
   "outputs": [],
   "source": [
    "with open(\"temp_file\", \"wb\") as f:\n",
    "    f.write(content)"
   ]
  },
  {
   "cell_type": "markdown",
   "metadata": {},
   "source": [
    "## CSV\n",
    "\n",
    "Usualmente, estos se pueden leer muy fácilmente utilizando la librería [Pandas](https://pandas.pydata.org/), que es especialmente útil para hacer análisis de datos. Sin embargo, acá mostraremos un ejemplo utilizando el módulo `csv`\n",
    "\n",
    "```\n",
    "col1,col2,col3,col4,col5\n",
    "57,20,65,2,20\n",
    "72,34,8,44,65\n",
    "60,35,98,49,7\n",
    "0,49,25,27,70\n",
    "```"
   ]
  },
  {
   "cell_type": "code",
   "execution_count": 12,
   "metadata": {},
   "outputs": [],
   "source": [
    "import csv"
   ]
  },
  {
   "cell_type": "code",
   "execution_count": 13,
   "metadata": {},
   "outputs": [
    {
     "name": "stdout",
     "output_type": "stream",
     "text": [
      "OrderedDict([('col1', '57'), ('col2', '20'), ('col3', '65'), ('col4', '2'), ('col5', '20')])\n",
      "OrderedDict([('col1', '72'), ('col2', '34'), ('col3', '8'), ('col4', '44'), ('col5', '65')])\n",
      "OrderedDict([('col1', '60'), ('col2', '35'), ('col3', '98'), ('col4', '49'), ('col5', '7')])\n",
      "OrderedDict([('col1', '0'), ('col2', '49'), ('col3', '25'), ('col4', '27'), ('col5', '70')])\n",
      "OrderedDict([('col1', '32'), ('col2', '5'), ('col3', '49'), ('col4', '68'), ('col5', '84')])\n",
      "OrderedDict([('col1', '18'), ('col2', '78'), ('col3', '60'), ('col4', '50'), ('col5', '95')])\n",
      "OrderedDict([('col1', '26'), ('col2', '59'), ('col3', '20'), ('col4', '70'), ('col5', '96')])\n",
      "OrderedDict([('col1', '30'), ('col2', '18'), ('col3', '33'), ('col4', '98'), ('col5', '97')])\n",
      "OrderedDict([('col1', '89'), ('col2', '65'), ('col3', '53'), ('col4', '43'), ('col5', '22')])\n",
      "OrderedDict([('col1', '46'), ('col2', '6'), ('col3', '65'), ('col4', '66'), ('col5', '91')])\n"
     ]
    }
   ],
   "source": [
    "with open(\"local/data/demodata.csv\", \"r\") as f:\n",
    "    reader = csv.DictReader(f)\n",
    "    for row in reader:\n",
    "        print(row)"
   ]
  },
  {
   "cell_type": "markdown",
   "metadata": {},
   "source": [
    "Podemos ver que cada fila del archivo csv se representa con un objeto de la clase `OrderedDict`, que es como un diccionario que preserva el orden en que se agregan los elementos. Cada llave de ese diccionario corresponde a los nombres de las columnas del csv."
   ]
  },
  {
   "cell_type": "code",
   "execution_count": 14,
   "metadata": {},
   "outputs": [],
   "source": [
    "data = [\n",
    "    {\"name\": \"julanito\", \"grade\": 3.7},\n",
    "    {\"name\": \"peranito\", \"grade\": 3.3}\n",
    "]\n",
    "with open(\"temp.csv\", mode=\"w\") as f:\n",
    "    writer = csv.DictWriter(f, fieldnames=[\"name\", \"grade\"])\n",
    "    writer.writeheader()\n",
    "    for row in data:\n",
    "        writer.writerow(row)"
   ]
  },
  {
   "cell_type": "markdown",
   "metadata": {},
   "source": [
    "Puedes leer más en [Reading and Writing CSV Files in Python](https://realpython.com/python-csv/)"
   ]
  },
  {
   "cell_type": "markdown",
   "metadata": {},
   "source": [
    "## JSON\n",
    "\n",
    "Un archivo en formato JSON es muy similar a un diccionario de Python o una lista de diccionarios, por lo que es muy normal escribirlos a partir de diccionarios y leerlos como diccionarios. \n",
    "\n",
    "```json\n",
    "[\n",
    "    {\n",
    "        \"name\": \"julanito\",\n",
    "        \"grade\": 3.7\n",
    "    },\n",
    "    {\n",
    "        \"name\": \"peranito\",\n",
    "        \"grade\": 3.3\n",
    "    }\n",
    "]\n",
    "```"
   ]
  },
  {
   "cell_type": "code",
   "execution_count": 15,
   "metadata": {},
   "outputs": [],
   "source": [
    "import json"
   ]
  },
  {
   "cell_type": "code",
   "execution_count": 16,
   "metadata": {
    "scrolled": true
   },
   "outputs": [
    {
     "data": {
      "text/plain": [
       "{'images': [{'height': 600, 'width': 800, 'id': 1, 'file_name': '1.jpg'}],\n",
       " 'categories': [{'supercategory': 'date', 'id': 1, 'name': 'date'},\n",
       "  {'supercategory': 'fig', 'id': 2, 'name': 'fig'},\n",
       "  {'supercategory': 'hazelnut', 'id': 3, 'name': 'hazelnut'}],\n",
       " 'annotations': [{'segmentation': [[307.37888198757764,\n",
       "     99.62111801242236,\n",
       "     345.2670807453416,\n",
       "     75.3975155279503,\n",
       "     348.3726708074534,\n",
       "     47.4472049689441,\n",
       "     352.7204968944099,\n",
       "     35.64596273291925,\n",
       "     340.91925465838506,\n",
       "     31.298136645962728,\n",
       "     330.9813664596273,\n",
       "     20.11801242236025,\n",
       "     311.1055900621118,\n",
       "     13.906832298136646,\n",
       "     277.5652173913043,\n",
       "     32.54037267080745,\n",
       "     266.3850931677018,\n",
       "     57.38509316770186,\n",
       "     267.0062111801242,\n",
       "     77.88198757763975,\n",
       "     282.53416149068323,\n",
       "     93.40993788819875]],\n",
       "   'iscrowd': 0,\n",
       "   'area': 5186.528297519399,\n",
       "   'image_id': 1,\n",
       "   'bbox': [266.0, 13.0, 86.0, 86.0],\n",
       "   'category_id': 3,\n",
       "   'id': 13},\n",
       "  {'segmentation': [[620.4223602484471,\n",
       "     124.46583850931677,\n",
       "     626.0124223602484,\n",
       "     161.73291925465838,\n",
       "     648.3726708074533,\n",
       "     189.06211180124222,\n",
       "     673.2173913043478,\n",
       "     195.27329192546583,\n",
       "     688.1242236024844,\n",
       "     201.48447204968943,\n",
       "     693.7142857142857,\n",
       "     184.7142857142857,\n",
       "     709.8633540372671,\n",
       "     158.0062111801242,\n",
       "     706.7577639751553,\n",
       "     133.78260869565216,\n",
       "     686.8819875776397,\n",
       "     100.86335403726707,\n",
       "     664.5217391304348,\n",
       "     95.27329192546583,\n",
       "     636.5714285714286,\n",
       "     107.69565217391303]],\n",
       "   'iscrowd': 0,\n",
       "   'area': 6611.241850237246,\n",
       "   'image_id': 1,\n",
       "   'bbox': [620.0, 95.0, 89.0, 106.0],\n",
       "   'category_id': 3,\n",
       "   'id': 14},\n",
       "  {'segmentation': [[79.42857142857142,\n",
       "     123.22360248447204,\n",
       "     91.22981366459626,\n",
       "     131.29813664596273,\n",
       "     106.75776397515526,\n",
       "     142.47826086956522,\n",
       "     114.83229813664596,\n",
       "     180.98757763975155,\n",
       "     101.16770186335401,\n",
       "     210.18012422360246,\n",
       "     68.24844720496893,\n",
       "     218.25465838509317,\n",
       "     45.88819875776397,\n",
       "     200.86335403726707,\n",
       "     37.19254658385091,\n",
       "     158.0062111801242,\n",
       "     60.79503105590061,\n",
       "     131.91925465838509]],\n",
       "   'iscrowd': 0,\n",
       "   'area': 5238.609621542382,\n",
       "   'image_id': 1,\n",
       "   'bbox': [37.0, 123.0, 77.0, 95.0],\n",
       "   'category_id': 3,\n",
       "   'id': 15},\n",
       "  {'segmentation': [[167.00621118012418,\n",
       "     343.7204968944099,\n",
       "     121.04347826086956,\n",
       "     378.5031055900621,\n",
       "     96.81987577639751,\n",
       "     477.88198757763973,\n",
       "     106.75776397515526,\n",
       "     503.3478260869565,\n",
       "     130.9813664596273,\n",
       "     513.9068322981366,\n",
       "     158.31055900621118,\n",
       "     513.9068322981366,\n",
       "     237.81366459627327,\n",
       "     446.8260869565217,\n",
       "     253.34161490683226,\n",
       "     399.0,\n",
       "     237.81366459627327,\n",
       "     358.62732919254654,\n",
       "     221.66459627329192,\n",
       "     357.3850931677018,\n",
       "     217.31677018633536,\n",
       "     348.06832298136646]],\n",
       "   'iscrowd': 0,\n",
       "   'area': 18429.265846225026,\n",
       "   'image_id': 1,\n",
       "   'bbox': [96.0, 343.0, 157.0, 170.0],\n",
       "   'category_id': 1,\n",
       "   'id': 16},\n",
       "  {'segmentation': [[379.4285714285714,\n",
       "     274.1552795031056,\n",
       "     275.0807453416149,\n",
       "     354.9006211180124,\n",
       "     264.52173913043475,\n",
       "     420.1180124223602,\n",
       "     289.36645962732916,\n",
       "     446.8260869565217,\n",
       "     341.5403726708074,\n",
       "     462.35403726708074,\n",
       "     380.6708074534161,\n",
       "     445.583850931677,\n",
       "     410.48447204968943,\n",
       "     389.0621118012422,\n",
       "     416.07453416149065,\n",
       "     377.88198757763973,\n",
       "     448.37267080745335,\n",
       "     305.83229813664593,\n",
       "     439.055900621118,\n",
       "     290.9254658385093,\n",
       "     407.99999999999994,\n",
       "     267.94409937888196]],\n",
       "   'iscrowd': 0,\n",
       "   'area': 21763.820840245346,\n",
       "   'image_id': 1,\n",
       "   'bbox': [264.0, 267.0, 184.0, 195.0],\n",
       "   'category_id': 1,\n",
       "   'id': 17},\n",
       "  {'segmentation': [[501.16770186335395,\n",
       "     207.69565217391303,\n",
       "     591.8509316770186,\n",
       "     194.65217391304347,\n",
       "     617.9378881987577,\n",
       "     200.86335403726707,\n",
       "     634.0869565217391,\n",
       "     198.3788819875776,\n",
       "     645.2670807453416,\n",
       "     217.6335403726708,\n",
       "     648.9937888198757,\n",
       "     215.14906832298135,\n",
       "     650.8571428571428,\n",
       "     241.85714285714283,\n",
       "     646.5093167701863,\n",
       "     259.8695652173913,\n",
       "     606.1366459627329,\n",
       "     280.36645962732916,\n",
       "     547.751552795031,\n",
       "     321.3602484472049,\n",
       "     506.1366459627329,\n",
       "     323.22360248447205,\n",
       "     462.0372670807453,\n",
       "     312.6645962732919,\n",
       "     448.37267080745335,\n",
       "     272.2919254658385,\n",
       "     465.1428571428571,\n",
       "     221.9813664596273]],\n",
       "   'iscrowd': 0,\n",
       "   'area': 18924.424212028738,\n",
       "   'image_id': 1,\n",
       "   'bbox': [448.0, 194.0, 202.0, 129.0],\n",
       "   'category_id': 1,\n",
       "   'id': 18},\n",
       "  {'segmentation': [[696.8198757763975,\n",
       "     317.0124223602484,\n",
       "     607.3788819875776,\n",
       "     407.695652173913,\n",
       "     603.6521739130434,\n",
       "     456.1428571428571,\n",
       "     627.2546583850931,\n",
       "     492.167701863354,\n",
       "     660.1739130434783,\n",
       "     505.2111801242236,\n",
       "     704.2732919254657,\n",
       "     495.2732919254658,\n",
       "     736.5714285714286,\n",
       "     451.17391304347825,\n",
       "     737.8136645962733,\n",
       "     430.67701863354034,\n",
       "     774.4596273291925,\n",
       "     362.35403726708074,\n",
       "     769.4906832298136,\n",
       "     326.9503105590062,\n",
       "     735.3291925465838,\n",
       "     308.9378881987577]],\n",
       "   'iscrowd': 0,\n",
       "   'area': 21385.363219011575,\n",
       "   'image_id': 1,\n",
       "   'bbox': [603.0, 308.0, 171.0, 197.0],\n",
       "   'category_id': 1,\n",
       "   'id': 19},\n",
       "  {'segmentation': [[412.3478260869565,\n",
       "     428.1925465838509,\n",
       "     353.9627329192546,\n",
       "     505.83229813664593,\n",
       "     355.20496894409933,\n",
       "     543.0993788819875,\n",
       "     391.22981366459624,\n",
       "     559.2484472049689,\n",
       "     430.98136645962734,\n",
       "     552.416149068323,\n",
       "     485.01863354037266,\n",
       "     546.8260869565217,\n",
       "     524.1490683229813,\n",
       "     504.5900621118012,\n",
       "     523.5279503105589,\n",
       "     468.5652173913043,\n",
       "     513.5900621118012,\n",
       "     459.2484472049689,\n",
       "     512.9689440993789,\n",
       "     439.3726708074534,\n",
       "     483.77639751552795,\n",
       "     412.04347826086956,\n",
       "     461.41614906832297,\n",
       "     407.07453416149065,\n",
       "     428.4968944099379,\n",
       "     419.49689440993785]],\n",
       "   'iscrowd': 0,\n",
       "   'area': 18380.656610470265,\n",
       "   'image_id': 1,\n",
       "   'bbox': [353.0, 407.0, 171.0, 152.0],\n",
       "   'category_id': 1,\n",
       "   'id': 20},\n",
       "  {'segmentation': [[391.8509316770186,\n",
       "     126.32919254658384,\n",
       "     389.36645962732916,\n",
       "     167.32298136645963,\n",
       "     404.2732919254658,\n",
       "     181.6086956521739,\n",
       "     444.02484472049684,\n",
       "     196.51552795031054,\n",
       "     469.4906832298136,\n",
       "     182.22981366459626,\n",
       "     504.8944099378882,\n",
       "     121.36024844720497,\n",
       "     506.1366459627329,\n",
       "     78.5031055900621,\n",
       "     512.3478260869565,\n",
       "     60.49068322981366,\n",
       "     499.3043478260869,\n",
       "     59.8695652173913,\n",
       "     483.77639751552795,\n",
       "     71.04968944099379,\n",
       "     440.2981366459627,\n",
       "     78.5031055900621,\n",
       "     408.62111801242236,\n",
       "     92.16770186335403]],\n",
       "   'iscrowd': 0,\n",
       "   'area': 10916.052621426643,\n",
       "   'image_id': 1,\n",
       "   'bbox': [389.0, 59.0, 123.0, 137.0],\n",
       "   'category_id': 2,\n",
       "   'id': 21}]}"
      ]
     },
     "execution_count": 16,
     "metadata": {},
     "output_type": "execute_result"
    }
   ],
   "source": [
    "with open(\"local/files/coco_example.json\", \"r\") as f:\n",
    "    data = json.load(f)\n",
    "data"
   ]
  },
  {
   "cell_type": "code",
   "execution_count": 17,
   "metadata": {},
   "outputs": [],
   "source": [
    "data = [\n",
    "    {\"name\": \"julanito\", \"grade\": 3.7},\n",
    "    {\"name\": \"peranito\", \"grade\": 3.3}\n",
    "]\n",
    "with open(\"local/files/temp.json\", \"w\") as f:\n",
    "    data = json.dump(data, f)"
   ]
  },
  {
   "cell_type": "markdown",
   "metadata": {},
   "source": [
    "Esto es lo más importante a recordar cuando trabajas con archivos JSON. Si quieres saber más te sugiero leer [Working With JSON Data in Python](https://realpython.com/python-json/)"
   ]
  },
  {
   "cell_type": "markdown",
   "metadata": {},
   "source": [
    "## XML\n",
    "\n",
    "Otra estructura, un poco más compleja en mi opinión...\n",
    "\n",
    "```xml\n",
    "<annotation>\n",
    "\t<folder>GeneratedData_Train</folder>\n",
    "\t<filename>000001.png</filename>\n",
    "\t<path>/my/path/GeneratedData_Train/000001.png</path>\n",
    "\t<source>\n",
    "\t\t<database>Unknown</database>\n",
    "\t</source>\n",
    "\t<size>\n",
    "\t\t<width>224</width>\n",
    "\t\t<height>224</height>\n",
    "\t\t<depth>3</depth>\n",
    "\t</size>\n",
    "\t<segmented>0</segmented>\n",
    "\t<object>\n",
    "\t\t<name>21</name>\n",
    "\t\t<pose>Frontal</pose>\n",
    "\t\t<truncated>0</truncated>\n",
    "\t\t<difficult>0</difficult>\n",
    "\t\t<occluded>0</occluded>\n",
    "\t\t<bndbox>\n",
    "\t\t\t<xmin>82</xmin>\n",
    "\t\t\t<xmax>172</xmax>\n",
    "\t\t\t<ymin>88</ymin>\n",
    "\t\t\t<ymax>146</ymax>\n",
    "\t\t</bndbox>\n",
    "\t</object>\n",
    "</annotation>\n",
    "```"
   ]
  },
  {
   "cell_type": "code",
   "execution_count": 18,
   "metadata": {},
   "outputs": [],
   "source": [
    "import xml.etree.ElementTree as ET"
   ]
  },
  {
   "cell_type": "code",
   "execution_count": 19,
   "metadata": {},
   "outputs": [
    {
     "data": {
      "text/plain": [
       "<xml.etree.ElementTree.ElementTree at 0x7fbcaa5b8490>"
      ]
     },
     "execution_count": 19,
     "metadata": {},
     "output_type": "execute_result"
    }
   ],
   "source": [
    "tree = ET.parse('local/files/pascalvoc_example.xml')\n",
    "tree"
   ]
  },
  {
   "cell_type": "markdown",
   "metadata": {},
   "source": [
    "Este formato se puede representar como un árbol y podemos acceder recursivamente a cada uno de los elementos del árbol. Cada elemento del árbol tiene un `tag` y un `attrib` (atributo)"
   ]
  },
  {
   "cell_type": "code",
   "execution_count": 20,
   "metadata": {},
   "outputs": [],
   "source": [
    "root = tree.getroot()"
   ]
  },
  {
   "cell_type": "code",
   "execution_count": 21,
   "metadata": {},
   "outputs": [
    {
     "data": {
      "text/plain": [
       "[('folder', {}),\n",
       " ('filename', {}),\n",
       " ('path', {}),\n",
       " ('source', {}),\n",
       " ('size', {}),\n",
       " ('segmented', {}),\n",
       " ('object', {})]"
      ]
     },
     "execution_count": 21,
     "metadata": {},
     "output_type": "execute_result"
    }
   ],
   "source": [
    "[(c.tag, c.attrib) for c in root]"
   ]
  },
  {
   "cell_type": "code",
   "execution_count": 22,
   "metadata": {},
   "outputs": [
    {
     "data": {
      "text/plain": [
       "'82'"
      ]
     },
     "execution_count": 22,
     "metadata": {},
     "output_type": "execute_result"
    }
   ],
   "source": [
    "root.find(\"object\").find(\"bndbox\").find(\"xmin\").text"
   ]
  },
  {
   "cell_type": "markdown",
   "metadata": {},
   "source": [
    "otra opción es usar [xmltodict](https://pypi.org/project/xmltodict/)"
   ]
  },
  {
   "cell_type": "code",
   "execution_count": 23,
   "metadata": {},
   "outputs": [],
   "source": [
    "import xmltodict"
   ]
  },
  {
   "cell_type": "code",
   "execution_count": 24,
   "metadata": {},
   "outputs": [
    {
     "data": {
      "text/plain": [
       "OrderedDict([('annotation',\n",
       "              OrderedDict([('folder', 'GeneratedData_Train'),\n",
       "                           ('filename', '000001.png'),\n",
       "                           ('path', '/my/path/GeneratedData_Train/000001.png'),\n",
       "                           ('source', OrderedDict([('database', 'Unknown')])),\n",
       "                           ('size',\n",
       "                            OrderedDict([('width', '224'),\n",
       "                                         ('height', '224'),\n",
       "                                         ('depth', '3')])),\n",
       "                           ('segmented', '0'),\n",
       "                           ('object',\n",
       "                            OrderedDict([('name', '21'),\n",
       "                                         ('pose', 'Frontal'),\n",
       "                                         ('truncated', '0'),\n",
       "                                         ('difficult', '0'),\n",
       "                                         ('occluded', '0'),\n",
       "                                         ('bndbox',\n",
       "                                          OrderedDict([('xmin', '82'),\n",
       "                                                       ('xmax', '172'),\n",
       "                                                       ('ymin', '88'),\n",
       "                                                       ('ymax',\n",
       "                                                        '146')]))]))]))])"
      ]
     },
     "execution_count": 24,
     "metadata": {},
     "output_type": "execute_result"
    }
   ],
   "source": [
    "xmltodict.parse(open(\"local/files/pascalvoc_example.xml\", \"r\").read())"
   ]
  },
  {
   "cell_type": "markdown",
   "metadata": {},
   "source": [
    "## YAML\n",
    "\n",
    "Este formato es bastante parecido a JSON, pero un poco más legible\n",
    "\n",
    "```yaml\n",
    "name: Tests on PRs\n",
    "\n",
    "on:\n",
    "  pull_request:\n",
    "\n",
    "jobs:\n",
    "  test:\n",
    "    runs-on: ubuntu-latest\n",
    "    strategy:\n",
    "      matrix:\n",
    "        python-version: [3.7, 3.8]\n",
    "    steps:\n",
    "    - uses: actions/checkout@v2\n",
    "    - name: Set up Python ${{ matrix.python-version }}\n",
    "      uses: actions/setup-python@v2\n",
    "      with:\n",
    "        python-version: ${{ matrix.python-version }}\n",
    "    - name: Install dependencies\n",
    "      run: python -m pip install \".[dev]\"\n",
    "    - name: Test with pytest\n",
    "      run: pytest --cov=lac --cov-report=term-missing\n",
    "```"
   ]
  },
  {
   "cell_type": "code",
   "execution_count": 25,
   "metadata": {},
   "outputs": [],
   "source": [
    "import yaml"
   ]
  },
  {
   "cell_type": "code",
   "execution_count": 26,
   "metadata": {},
   "outputs": [],
   "source": [
    "with open(\"local/files/config_example.yml\") as f:\n",
    "    data = yaml.safe_load(f)"
   ]
  },
  {
   "cell_type": "code",
   "execution_count": 27,
   "metadata": {},
   "outputs": [
    {
     "data": {
      "text/plain": [
       "{'name': 'Tests on PRs',\n",
       " True: {'pull_request': None},\n",
       " 'jobs': {'test': {'runs-on': 'ubuntu-latest',\n",
       "   'strategy': {'matrix': {'python-version': [3.7, 3.8]}},\n",
       "   'steps': [{'uses': 'actions/checkout@v2'},\n",
       "    {'name': 'Set up Python ${{ matrix.python-version }}',\n",
       "     'uses': 'actions/setup-python@v2',\n",
       "     'with': {'python-version': '${{ matrix.python-version }}'}},\n",
       "    {'name': 'Install dependencies', 'run': 'python -m pip install \".[dev]\"'},\n",
       "    {'name': 'Test with pytest',\n",
       "     'run': 'pytest --cov=lac --cov-report=term-missing'}]}}}"
      ]
     },
     "execution_count": 27,
     "metadata": {},
     "output_type": "execute_result"
    }
   ],
   "source": [
    "data"
   ]
  },
  {
   "cell_type": "code",
   "execution_count": 28,
   "metadata": {},
   "outputs": [],
   "source": [
    "data = [\n",
    "    {\"name\": \"julanito\", \"grade\": 3.7},\n",
    "    {\"name\": \"peranito\", \"grade\": 3.3}\n",
    "]\n",
    "with open(\"local/files/temp.yml\", \"w\") as f:\n",
    "    data = yaml.dump(data, f)"
   ]
  },
  {
   "cell_type": "code",
   "execution_count": null,
   "metadata": {},
   "outputs": [],
   "source": []
  }
 ],
 "metadata": {
  "kernelspec": {
   "display_name": "Python 3",
   "language": "python",
   "name": "python3"
  },
  "language_info": {
   "codemirror_mode": {
    "name": "ipython",
    "version": 3
   },
   "file_extension": ".py",
   "mimetype": "text/x-python",
   "name": "python",
   "nbconvert_exporter": "python",
   "pygments_lexer": "ipython3",
   "version": "3.7.4"
  }
 },
 "nbformat": 4,
 "nbformat_minor": 2
}
