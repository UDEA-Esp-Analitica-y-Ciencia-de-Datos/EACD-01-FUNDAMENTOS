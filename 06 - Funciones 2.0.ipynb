{
 "cells": [
  {
   "cell_type": "markdown",
   "metadata": {},
   "source": [
    "# Funciones 2.0"
   ]
  },
  {
   "cell_type": "markdown",
   "metadata": {},
   "source": [
    "---\n",
    "Funciones como argumentos de otras funciones"
   ]
  },
  {
   "cell_type": "code",
   "execution_count": 1,
   "metadata": {},
   "outputs": [],
   "source": [
    "def greeting(name):\n",
    "    print(f\"Hello {name}\")"
   ]
  },
  {
   "cell_type": "code",
   "execution_count": 2,
   "metadata": {},
   "outputs": [],
   "source": [
    "def explained_greeting(greeting_fn, name):\n",
    "    print(\"This is an special greeting from your loved one\")\n",
    "    greeting_fn(name)"
   ]
  },
  {
   "cell_type": "code",
   "execution_count": 3,
   "metadata": {},
   "outputs": [
    {
     "name": "stdout",
     "output_type": "stream",
     "text": [
      "This is an special greeting from your loved one\n",
      "Hello Cata\n"
     ]
    }
   ],
   "source": [
    "explained_greeting(greeting, \"Cata\")"
   ]
  },
  {
   "cell_type": "markdown",
   "metadata": {},
   "source": [
    "---\n",
    "Funciones que retornan funciones"
   ]
  },
  {
   "cell_type": "code",
   "execution_count": 4,
   "metadata": {},
   "outputs": [],
   "source": [
    "def make_greeting_function(name):\n",
    "    def fn():\n",
    "        print(f\"Hello {name}\")\n",
    "    return fn"
   ]
  },
  {
   "cell_type": "code",
   "execution_count": 5,
   "metadata": {},
   "outputs": [],
   "source": [
    "greeting_fn = make_greeting_function(\"Cata\")"
   ]
  },
  {
   "cell_type": "code",
   "execution_count": 6,
   "metadata": {},
   "outputs": [
    {
     "name": "stdout",
     "output_type": "stream",
     "text": [
      "Hello Cata\n"
     ]
    }
   ],
   "source": [
    "greeting_fn()"
   ]
  },
  {
   "cell_type": "markdown",
   "metadata": {},
   "source": [
    "---\n",
    "Funciones que reciben funciones y entregan una versión extendida de la original"
   ]
  },
  {
   "cell_type": "code",
   "execution_count": 7,
   "metadata": {},
   "outputs": [],
   "source": [
    "def greet_with_pleasure(greeting_fn):\n",
    "    def helper():\n",
    "        greeting_fn()\n",
    "        print(\"It is a pleasure\")\n",
    "    return helper"
   ]
  },
  {
   "cell_type": "code",
   "execution_count": 8,
   "metadata": {},
   "outputs": [
    {
     "name": "stdout",
     "output_type": "stream",
     "text": [
      "Hello Cata\n",
      "It is a pleasure\n"
     ]
    }
   ],
   "source": [
    "greeting_fn2 = greet_with_pleasure(greeting_fn)\n",
    "greeting_fn2()"
   ]
  },
  {
   "cell_type": "markdown",
   "metadata": {},
   "source": [
    "---\n",
    "Hay otra sintaxis para esto"
   ]
  },
  {
   "cell_type": "code",
   "execution_count": 9,
   "metadata": {},
   "outputs": [],
   "source": [
    "def call_two_times(fn):\n",
    "    def helper(name):\n",
    "        fn(name)\n",
    "        fn(name)\n",
    "    return helper"
   ]
  },
  {
   "cell_type": "code",
   "execution_count": 10,
   "metadata": {},
   "outputs": [],
   "source": [
    "@call_two_times\n",
    "def greeting(name):\n",
    "    print(f\"Hello {name}\")"
   ]
  },
  {
   "cell_type": "code",
   "execution_count": 11,
   "metadata": {},
   "outputs": [
    {
     "name": "stdout",
     "output_type": "stream",
     "text": [
      "Hello Cata\n",
      "Hello Cata\n"
     ]
    }
   ],
   "source": [
    "greeting(\"Cata\")"
   ]
  },
  {
   "cell_type": "markdown",
   "metadata": {},
   "source": [
    "---\n",
    "Funciones que se llaman a si mismas (recursividad)"
   ]
  },
  {
   "cell_type": "code",
   "execution_count": 12,
   "metadata": {},
   "outputs": [],
   "source": [
    "def fib(n):\n",
    "    if n < 2:\n",
    "        return n\n",
    "    return fib(n-1) + fib(n-2)"
   ]
  },
  {
   "cell_type": "code",
   "execution_count": 13,
   "metadata": {},
   "outputs": [
    {
     "data": {
      "text/plain": [
       "[0, 1, 1, 2, 3, 5, 8, 13, 21, 34, 55, 89, 144, 233, 377, 610]"
      ]
     },
     "execution_count": 13,
     "metadata": {},
     "output_type": "execute_result"
    }
   ],
   "source": [
    "[fib(n) for n in range(16)]"
   ]
  },
  {
   "cell_type": "markdown",
   "metadata": {},
   "source": [
    "Python ofrece una forma de guardar en memoria resultados frecuentes, esto nos permite optimizar la velocidad de nuestras funciones, utilizando un poco más de memoria RAM"
   ]
  },
  {
   "cell_type": "code",
   "execution_count": 14,
   "metadata": {},
   "outputs": [],
   "source": [
    "import functools"
   ]
  },
  {
   "cell_type": "code",
   "execution_count": 15,
   "metadata": {},
   "outputs": [],
   "source": [
    "@functools.lru_cache(maxsize=None)\n",
    "def fib2(n):\n",
    "    if n < 2:\n",
    "        return n\n",
    "    return fib2(n-1) + fib2(n-2)"
   ]
  },
  {
   "cell_type": "code",
   "execution_count": 16,
   "metadata": {},
   "outputs": [
    {
     "name": "stdout",
     "output_type": "stream",
     "text": [
      "542 µs ± 68.3 µs per loop (mean ± std. dev. of 7 runs, 1000 loops each)\n"
     ]
    }
   ],
   "source": [
    "%timeit [fib(n) for n in range(16)]"
   ]
  },
  {
   "cell_type": "code",
   "execution_count": 17,
   "metadata": {},
   "outputs": [
    {
     "name": "stdout",
     "output_type": "stream",
     "text": [
      "1.48 µs ± 21.3 ns per loop (mean ± std. dev. of 7 runs, 1000000 loops each)\n"
     ]
    }
   ],
   "source": [
    "%timeit [fib2(n) for n in range(16)]"
   ]
  },
  {
   "cell_type": "markdown",
   "metadata": {},
   "source": [
    "**Reflexión**\n",
    "\n",
    "¿cómo crees que fue implementada la funcicón `lru_cache`?"
   ]
  },
  {
   "cell_type": "markdown",
   "metadata": {},
   "source": [
    "## Mas functools\n",
    "\n",
    "El módulo `functools` nos ofrece varias funciones útiles que reciben como argumento otras funciones, así como `functools.lru_cache`. Siempre podrás leer más en la [documentación oficial](https://docs.python.org/3.7/library/functools.html)"
   ]
  },
  {
   "cell_type": "code",
   "execution_count": 18,
   "metadata": {},
   "outputs": [],
   "source": [
    "import functools"
   ]
  },
  {
   "cell_type": "markdown",
   "metadata": {},
   "source": [
    "[**partial**](https://docs.python.org/3.7/library/functools.html#functools.partial)\n",
    "\n",
    "Imagina que tenemos la siguiente función"
   ]
  },
  {
   "cell_type": "code",
   "execution_count": 19,
   "metadata": {},
   "outputs": [],
   "source": [
    "def print_student_info(name, email, degree, university):\n",
    "    template =\"\"\"\n",
    "        Name          : {}\n",
    "        Email         : {}\n",
    "        Degree        : {}\n",
    "        University    : {}\n",
    "        \"\"\"\n",
    "    print(template.format(name, email, degree, university))"
   ]
  },
  {
   "cell_type": "code",
   "execution_count": 20,
   "metadata": {},
   "outputs": [
    {
     "name": "stdout",
     "output_type": "stream",
     "text": [
      "\n",
      "        Name          : Danilo\n",
      "        Email         : ddiazvaxx@gmail.com\n",
      "        Degree        : Mechanical Engineer\n",
      "        University    : EAFIT\n",
      "        \n"
     ]
    }
   ],
   "source": [
    "print_student_info(\"Danilo\", \"ddiazvaxx@gmail.com\", \"Mechanical Engineer\", \"EAFIT\")"
   ]
  },
  {
   "cell_type": "markdown",
   "metadata": {},
   "source": [
    "Ahora queremos una función que nos sirva para imprimir a todos los estudiantes que hayan realizado su pregrado en EAFIT"
   ]
  },
  {
   "cell_type": "code",
   "execution_count": 21,
   "metadata": {},
   "outputs": [],
   "source": [
    "print_eafit_student_info = functools.partial(print_student_info, university=\"EAFIT\")"
   ]
  },
  {
   "cell_type": "code",
   "execution_count": 22,
   "metadata": {},
   "outputs": [
    {
     "name": "stdout",
     "output_type": "stream",
     "text": [
      "\n",
      "        Name          : Julian\n",
      "        Email         : jeussejxx@gmail.com\n",
      "        Degree        : Mechanical Engineer\n",
      "        University    : EAFIT\n",
      "        \n"
     ]
    }
   ],
   "source": [
    "print_eafit_student_info(\"Julian\", \"jeussejxx@gmail.com\", \"Mechanical Engineer\")"
   ]
  },
  {
   "cell_type": "markdown",
   "metadata": {},
   "source": [
    "Usando `functools.partial` sobre una función `f` podemos crear una función `f` que funcione tal como `f`, solo que tiene un argumento fijo. Esto potencialmente eliminaría errores pasando los mismos argumentos una y otra vez."
   ]
  },
  {
   "cell_type": "markdown",
   "metadata": {},
   "source": [
    "[**reduce**](https://docs.python.org/3.7/library/functools.html#functools.reduce)\n",
    "\n",
    "> Apply function of two arguments cumulatively to the items of sequence, from left to right, so as to reduce the sequence to a single value\n",
    "\n",
    "> The left argument, x, is the accumulated value and the right argument, y, is the update value from the sequence. If the optional initializer is present, it is placed before the items of the sequence in the calculation, and serves as a default when the sequence is empty. If initializer is not given and sequence contains only one item, the first item is returned.\n",
    "\n",
    "Ahora un ejempo para implementar una productoria de una lista de números"
   ]
  },
  {
   "cell_type": "code",
   "execution_count": 23,
   "metadata": {},
   "outputs": [],
   "source": [
    "def product(seq):\n",
    "    return functools.reduce(lambda x, y: x*y, seq)"
   ]
  },
  {
   "cell_type": "code",
   "execution_count": 24,
   "metadata": {},
   "outputs": [
    {
     "data": {
      "text/plain": [
       "24"
      ]
     },
     "execution_count": 24,
     "metadata": {},
     "output_type": "execute_result"
    }
   ],
   "source": [
    "product([1,2,3,4])"
   ]
  },
  {
   "cell_type": "markdown",
   "metadata": {},
   "source": [
    "[**singledispatch**](https://docs.python.org/3.7/library/functools.html#functools.singledispatch)\n",
    "\n",
    "Imaginemos que tenemos una función que recibe un argumento y dependiendo del tipo de dato del argumento realiza una tarea, como se muestra a continuación"
   ]
  },
  {
   "cell_type": "code",
   "execution_count": 25,
   "metadata": {},
   "outputs": [],
   "source": [
    "def compute_total_string_length(value):\n",
    "    if isinstance(value, str):\n",
    "        return len(value)\n",
    "    elif isinstance(value, list):\n",
    "        return sum(len(v) for v in value)\n",
    "    elif isinstance(value, int):\n",
    "        return len(str(value))\n",
    "    else:\n",
    "        raise TypeError(f\"unsupported argument {type(value)}\")"
   ]
  },
  {
   "cell_type": "code",
   "execution_count": 26,
   "metadata": {},
   "outputs": [
    {
     "name": "stdout",
     "output_type": "stream",
     "text": [
      "5\n",
      "25\n",
      "3\n"
     ]
    }
   ],
   "source": [
    "print(compute_total_string_length(\"hola!\"))\n",
    "print(compute_total_string_length([\"hola!\", \"a\", \"todos\", \"los\", \"estudiantes\"]))\n",
    "print(compute_total_string_length(456))"
   ]
  },
  {
   "cell_type": "markdown",
   "metadata": {},
   "source": [
    "esta misma función se hubiera podido escribir de la siguiente manera"
   ]
  },
  {
   "cell_type": "code",
   "execution_count": 27,
   "metadata": {},
   "outputs": [],
   "source": [
    "@functools.singledispatch\n",
    "def compute_total_string_length(value):\n",
    "    raise TypeError(f\"unsupported argument {type(value)}\")"
   ]
  },
  {
   "cell_type": "code",
   "execution_count": 28,
   "metadata": {},
   "outputs": [],
   "source": [
    "@compute_total_string_length.register\n",
    "def _(value: str):\n",
    "    return len(value)\n",
    "\n",
    "@compute_total_string_length.register\n",
    "def _(value: int):\n",
    "    return len(str(value))\n",
    "\n",
    "@compute_total_string_length.register\n",
    "def _(value: list):\n",
    "    return sum(len(v) for v in value)"
   ]
  },
  {
   "cell_type": "code",
   "execution_count": 29,
   "metadata": {},
   "outputs": [
    {
     "name": "stdout",
     "output_type": "stream",
     "text": [
      "5\n",
      "25\n",
      "3\n"
     ]
    }
   ],
   "source": [
    "print(compute_total_string_length(\"hola!\"))\n",
    "print(compute_total_string_length([\"hola!\", \"a\", \"todos\", \"los\", \"estudiantes\"]))\n",
    "print(compute_total_string_length(456))"
   ]
  },
  {
   "cell_type": "markdown",
   "metadata": {},
   "source": [
    "En conclusión, esta función nos permite ahorrarnos esos *feos* condicionales, que para el ejemplo mostrado no parece la gran cosa, pero para funciones más complicadas nos permite tener un código más fácil de leer.\n",
    "\n",
    "[**wrapper**](https://docs.python.org/3.7/library/functools.html#functools.wraps)\n",
    "\n",
    "Esta nos permite que una función que pasa por un decorador se parezca más a la función decorada. Vamos a ilustrarlo implementando nuestra propia versión de `functools.lru_cache`, la cual seguramente no será tan chévere."
   ]
  },
  {
   "cell_type": "code",
   "execution_count": 30,
   "metadata": {},
   "outputs": [],
   "source": [
    "def lru_cache(f):\n",
    "    cache = {}\n",
    "    def wrapper(v):\n",
    "        if v in cache:\n",
    "            return cache[v]\n",
    "        out = f(v)\n",
    "        cache[v] = out\n",
    "        return out\n",
    "    return wrapper"
   ]
  },
  {
   "cell_type": "markdown",
   "metadata": {},
   "source": [
    "Volvamos de nuevo a nuestra función para calcular los números de fibonacci para cierto `n`"
   ]
  },
  {
   "cell_type": "code",
   "execution_count": 31,
   "metadata": {},
   "outputs": [],
   "source": [
    "@lru_cache\n",
    "def fib(n: int):\n",
    "    \"\"\"Computes the Fibonacci number at index n\"\"\"\n",
    "    if n < 2:\n",
    "        return n\n",
    "    return fib(n-1) + fib(n-2)"
   ]
  },
  {
   "cell_type": "code",
   "execution_count": 32,
   "metadata": {},
   "outputs": [
    {
     "data": {
      "text/plain": [
       "[0, 1, 1, 2, 3, 5, 8, 13, 21, 34, 55, 89, 144, 233, 377, 610]"
      ]
     },
     "execution_count": 32,
     "metadata": {},
     "output_type": "execute_result"
    }
   ],
   "source": [
    "[fib(n) for n in range(16)]"
   ]
  },
  {
   "cell_type": "markdown",
   "metadata": {},
   "source": [
    "Funciona como esperamos, pero miremos lo que pasa si tratamos de consultar la documentación"
   ]
  },
  {
   "cell_type": "code",
   "execution_count": 33,
   "metadata": {},
   "outputs": [
    {
     "name": "stdout",
     "output_type": "stream",
     "text": [
      "Help on function wrapper in module __main__:\n",
      "\n",
      "wrapper(v)\n",
      "\n"
     ]
    }
   ],
   "source": [
    "help(fib)"
   ]
  },
  {
   "cell_type": "markdown",
   "metadata": {},
   "source": [
    "Perdimos nuestra documentación! Ahora miremos que pasa si utilizamos `functools.wraps`"
   ]
  },
  {
   "cell_type": "code",
   "execution_count": 34,
   "metadata": {},
   "outputs": [],
   "source": [
    "def lru_cache(f):\n",
    "    cache = {}\n",
    "    @functools.wraps(f)\n",
    "    def wrapper(v):\n",
    "        if v in cache:\n",
    "            return cache[v]\n",
    "        out = f(v)\n",
    "        cache[v] = out\n",
    "        return out\n",
    "    return wrapper"
   ]
  },
  {
   "cell_type": "code",
   "execution_count": 35,
   "metadata": {},
   "outputs": [],
   "source": [
    "@lru_cache\n",
    "def fib(n: int):\n",
    "    \"\"\"Computes the Fibonacci number at index n\"\"\"\n",
    "    if n < 2:\n",
    "        return n\n",
    "    return fib(n-1) + fib(n-2)"
   ]
  },
  {
   "cell_type": "code",
   "execution_count": 36,
   "metadata": {},
   "outputs": [
    {
     "name": "stdout",
     "output_type": "stream",
     "text": [
      "Help on function fib in module __main__:\n",
      "\n",
      "fib(n: int)\n",
      "    Computes the Fibonacci number at index n\n",
      "\n"
     ]
    }
   ],
   "source": [
    "help(fib)"
   ]
  },
  {
   "cell_type": "markdown",
   "metadata": {},
   "source": [
    ":) "
   ]
  }
 ],
 "metadata": {
  "kernelspec": {
   "display_name": "Python 3",
   "language": "python",
   "name": "python3"
  },
  "language_info": {
   "codemirror_mode": {
    "name": "ipython",
    "version": 3
   },
   "file_extension": ".py",
   "mimetype": "text/x-python",
   "name": "python",
   "nbconvert_exporter": "python",
   "pygments_lexer": "ipython3",
   "version": "3.7.7"
  }
 },
 "nbformat": 4,
 "nbformat_minor": 2
}
